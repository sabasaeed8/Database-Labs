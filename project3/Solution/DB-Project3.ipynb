{
  "nbformat": 4,
  "nbformat_minor": 0,
  "metadata": {
    "colab": {
      "name": "project3_template.ipynb",
      "provenance": [],
      "collapsed_sections": []
    },
    "kernelspec": {
      "name": "python3",
      "display_name": "Python 3"
    }
  },
  "cells": [
    {
      "cell_type": "markdown",
      "metadata": {
        "id": "U5JUMgc_gbHp"
      },
      "source": [
        "# CS145: Project 3 | Hacker News"
      ]
    },
    {
      "cell_type": "markdown",
      "metadata": {
        "id": "EHDiv4GrhofN"
      },
      "source": [
        "## Collaborators:\n",
        "Please list the names and SUNet IDs of your collaborators below:\n",
        "* *Sundas Noureen (2019-CE-03)*\n",
        "* *SABA (2019-CE-04)*"
      ]
    },
    {
      "cell_type": "markdown",
      "metadata": {
        "id": "gMNQWFvSgepX"
      },
      "source": [
        "## Project Overview"
      ]
    },
    {
      "cell_type": "markdown",
      "metadata": {
        "id": "lX1Jkglwg1SI"
      },
      "source": [
        "---\n",
        "\n",
        "Hacker News (sometimes abbreviated as HN) is a social news website focusing on computer science and entrepreneurship. It is run by the investment fund and startup incubator Y Combinator. In general, content that can be submitted is defined as \"anything that gratifies one's intellectual curiosity.\"\n",
        "The word hacker in \"Hacker News\" is used in its original meaning and refers to the hacker culture which consists of people who enjoy tinkering with technology.\n",
        "\n",
        "---\n"
      ]
    },
    {
      "cell_type": "markdown",
      "metadata": {
        "id": "r_GvgTCcgv6N"
      },
      "source": [
        "## Analysis of Dataset"
      ]
    },
    {
      "cell_type": "markdown",
      "metadata": {
        "id": "c6wGQ8ZPgyuJ"
      },
      "source": [
        "---\n",
        "This dataset contains all stories and comments from Hacker News from its launch in 2006. Each \n",
        "story contains a story id, the author that made the post, when it was written, and the number of \n",
        "points the story received. \n",
        "\n",
        "There are 4 tables in this public dataset:\n",
        "\n",
        "stories (a.k.a posts)\n",
        "\n",
        "comments\n",
        "\n",
        "full\n",
        "\n",
        "full_2015\n",
        "\n",
        "A post can have many comments.\n",
        "\n",
        "A comment can have many comments.\n",
        "\n",
        "Posts can have scores.\n",
        "\n",
        "Posts have rankings showing their popularity.\n",
        "\n",
        "So the structure is:\n",
        "\n",
        "Story\n",
        "\n",
        "comment\n",
        "\n",
        "   comment\n",
        "\n",
        "comment"
      ]
    },
    {
      "cell_type": "markdown",
      "metadata": {
        "id": "Fc_clta9g3H5"
      },
      "source": [
        "## Data Exploration"
      ]
    },
    {
      "cell_type": "code",
      "metadata": {
        "id": "iTYZZK-lhCV9"
      },
      "source": [
        "# Run this cell to authenticate yourself to BigQuery\n",
        "from google.colab import auth\n",
        "auth.authenticate_user()\n",
        "project_id = \"project3-db-346816\""
      ],
      "execution_count": 1,
      "outputs": []
    },
    {
      "cell_type": "code",
      "metadata": {
        "id": "uIY7-6-thFc-"
      },
      "source": [
        "# Initialize BiqQuery client\n",
        "from google.cloud import bigquery\n",
        "client = bigquery.Client(project=project_id)"
      ],
      "execution_count": 2,
      "outputs": []
    },
    {
      "cell_type": "code",
      "source": [
        "# Add imports for any visualization libraries you may need\n",
        "import matplotlib.pyplot as plt\n",
        "\n",
        "%matplotlib inline"
      ],
      "metadata": {
        "id": "6ZYKBBCjTH5P"
      },
      "execution_count": 3,
      "outputs": []
    },
    {
      "cell_type": "markdown",
      "metadata": {
        "id": "OsMMIDrjg_YG"
      },
      "source": [
        "---\n",
        " ## 1) Prolific commenters \n",
        "---"
      ]
    },
    {
      "cell_type": "markdown",
      "source": [
        "Hacker News would like to send awards to everyone who has written more than 10,000 posts. Write a query that returns all authors with more than 10,000 posts as well as their post counts.\n"
      ],
      "metadata": {
        "id": "2YyPGERoRcuA"
      }
    },
    {
      "cell_type": "code",
      "source": [
        "%%bigquery --project $project_id prolific_commenters\n",
        "SELECT\n",
        "  author,\n",
        "  COUNT(1) AS NumPosts\n",
        "FROM\n",
        "  `bigquery-public-data.hacker_news.comments`\n",
        "WHERE \n",
        "  author IS NOT NULL\n",
        "GROUP BY\n",
        "  author\n",
        "HAVING\n",
        "  COUNT(1) > 10000\n",
        "LIMIT\n",
        "  50"
      ],
      "metadata": {
        "id": "L1vtvWzTORbw"
      },
      "execution_count": null,
      "outputs": []
    },
    {
      "cell_type": "code",
      "source": [
        "# YOUR PLOT CODE HERE\n",
        "plt.figure()\n",
        "plt.rcParams[\"figure.figsize\"] = [15, 3.50]\n",
        "plt.rcParams[\"figure.autolayout\"] = True\n",
        "\n",
        "plt.bar(prolific_commenters[\"author\"], prolific_commenters[\"NumPosts\"])\n",
        "plt.title(\"prolific Commenters-- Having posts greater than 10000\")\n",
        "plt.xlabel(\"Authors\")\n",
        "plt.ylabel(\"Num_Of_Posts\")"
      ],
      "metadata": {
        "colab": {
          "base_uri": "https://localhost:8080/",
          "height": 206
        },
        "id": "TCegww-lSBoW",
        "outputId": "818188e6-020f-49eb-9766-06c63a320c05"
      },
      "execution_count": null,
      "outputs": [
        {
          "output_type": "execute_result",
          "data": {
            "text/plain": [
              "Text(0, 0.5, 'Num_Of_Posts')"
            ]
          },
          "metadata": {},
          "execution_count": 21
        },
        {
          "output_type": "display_data",
          "data": {
            "text/plain": [
              "<Figure size 1080x180 with 1 Axes>"
            ],
            "image/png": "[encoded data removed]"
          },
          "metadata": {
            "needs_background": "light"
          }
        }
      ]
    },
    {
      "cell_type": "markdown",
      "source": [
        "---\n",
        " ## 2) Most Commented Posts \n",
        "---"
      ],
      "metadata": {
        "id": "-OprmttQ7SOM"
      }
    },
    {
      "cell_type": "markdown",
      "source": [
        "Write a query which shows posts that has highest number of comments. \n"
      ],
      "metadata": {
        "id": "RALQYzwQ7gFy"
      }
    },
    {
      "cell_type": "code",
      "source": [
        "%%bigquery --project $project_id mcp\n",
        "SELECT\n",
        "  parent,\n",
        "  COUNT(*) AS number_of_comments\n",
        "FROM\n",
        "  `bigquery-public-data.hacker_news.comments`\n",
        "GROUP BY\n",
        "  parent\n",
        "HAVING\n",
        "  COUNT(*) > 500\n",
        "ORDER BY\n",
        "  number_of_comments DESC\n",
        "LIMIT\n",
        "  50"
      ],
      "metadata": {
        "id": "_jYqWU2w9Vv0"
      },
      "execution_count": null,
      "outputs": []
    },
    {
      "cell_type": "code",
      "source": [
        "# YOUR PLOT CODE HERE\n",
        "plt.figure()\n",
        "plt.rcParams[\"figure.figsize\"] = [15, 2.50]\n",
        "plt.rcParams[\"figure.autolayout\"] = True\n",
        "plt.scatter(mcp[\"parent\"], mcp[\"number_of_comments\"])\n",
        "plt.title(\"Most-Commented-Posts\")\n",
        "plt.xlabel(\"parent\")\n",
        "plt.ylabel(\"Num_Of_Comments\")"
      ],
      "metadata": {
        "colab": {
          "base_uri": "https://localhost:8080/",
          "height": 206
        },
        "id": "gmaQKl_X9gSu",
        "outputId": "f800e6e8-1658-4dfb-fb1a-f39c863d2b9c"
      },
      "execution_count": null,
      "outputs": [
        {
          "output_type": "execute_result",
          "data": {
            "text/plain": [
              "Text(0, 0.5, 'Num_Of_Comments')"
            ]
          },
          "metadata": {},
          "execution_count": 24
        },
        {
          "output_type": "display_data",
          "data": {
            "text/plain": [
              "<Figure size 720x180 with 1 Axes>"
            ],
            "image/png": "[encoded data removed]"
          },
          "metadata": {
            "needs_background": "light"
          }
        }
      ]
    },
    {
      "cell_type": "markdown",
      "source": [
        "## 3) Highly Scored Stories"
      ],
      "metadata": {
        "id": "DsmftcpEAxa5"
      }
    },
    {
      "cell_type": "code",
      "source": [
        "%%bigquery --project $project_id hs\n",
        "SELECT \n",
        "   score, title    \n",
        "FROM \n",
        "  `bigquery-public-data.hacker_news.stories`\n",
        "WHERE \n",
        "   score>250\n",
        "ORDER BY \n",
        "   score DESC\n",
        "LIMIT \n",
        "   10"
      ],
      "metadata": {
        "id": "UZTsrb5RBvpg"
      },
      "execution_count": null,
      "outputs": []
    },
    {
      "cell_type": "code",
      "source": [
        "# YOUR PLOT CODE HERE\n",
        "plt.figure()\n",
        "plt.bar(hs[\"title\"], hs[\"score\"])\n",
        "plt.title(\"Highly-Scored-Stories\")\n",
        "plt.xlabel(\"title\")\n",
        "plt.ylabel(\"score\")"
      ],
      "metadata": {
        "colab": {
          "base_uri": "https://localhost:8080/",
          "height": 278
        },
        "id": "YueAxNSdEcyq",
        "outputId": "adc9257c-a65d-420c-faf6-4c0ae0e734d2"
      },
      "execution_count": null,
      "outputs": [
        {
          "output_type": "execute_result",
          "data": {
            "text/plain": [
              "Text(0, 0.5, 'score')"
            ]
          },
          "metadata": {},
          "execution_count": 42
        },
        {
          "output_type": "display_data",
          "data": {
            "text/plain": [
              "<Figure size 1080x252 with 1 Axes>"
            ],
            "image/png": "[encoded data removed]"
          },
          "metadata": {
            "needs_background": "light"
          }
        }
      ]
    },
    {
      "cell_type": "markdown",
      "source": [
        "## 4) Stories Not Dead or Deleted"
      ],
      "metadata": {
        "id": "7H4PNVw1NvVk"
      }
    },
    {
      "cell_type": "code",
      "source": [
        "%%bigquery --project $project_id snd\n",
        "SELECT\n",
        "   COUNT(id) AS not_dead_deleted_stories\n",
        "FROM\n",
        "  `bigquery-public-data.hacker_news.stories`\n",
        "WHERE\n",
        "  deleted IS NOT TRUE\n",
        "  AND dead IS NOT TRUE"
      ],
      "metadata": {
        "id": "zvPBoqt7NwYF"
      },
      "execution_count": null,
      "outputs": []
    },
    {
      "cell_type": "markdown",
      "source": [
        "## 5) Hacker News has received complaints that the site is biased towards Y Combinator startups. Do the data support this?"
      ],
      "metadata": {
        "id": "f9AJrNPoQSuo"
      }
    },
    {
      "cell_type": "code",
      "source": [
        "%%bigquery --project $project_id p\n",
        "WITH\n",
        "  startup_ranking_score AS (\n",
        "  SELECT\n",
        "    CASE\n",
        "      WHEN title LIKE \"%Airbnb%\" OR text LIKE \"%Airbnb%\" THEN \"Airbnb\"\n",
        "      WHEN title LIKE \"%Stripe%\"\n",
        "    OR text LIKE \"%Stripe%\" THEN \"Stripe\"\n",
        "      WHEN title LIKE \"%Dropbox%\" OR text LIKE \"%Dropbox%\" THEN \"Dropbox\"\n",
        "      WHEN title LIKE \"%Zapier%\"\n",
        "    OR text LIKE \"%Zapier%\" THEN \"Zapier\"\n",
        "      WHEN title LIKE \"%Reddit%\" OR text LIKE \"%Reddit%\" THEN \"Reddit\"\n",
        "  END\n",
        "    AS popular_startup_name,\n",
        "    ranking,\n",
        "    score\n",
        "  FROM\n",
        "    `bigquery-public-data.hacker_news.full` \n",
        "  )\n",
        "SELECT\n",
        "  popular_startup_name,\n",
        "  SUM(ranking) AS total_ranking,\n",
        "  SUM(score) AS total_score\n",
        "FROM\n",
        "  startup_ranking_score\n",
        "WHERE popular_startup_name IS NOT NULL\n",
        "GROUP BY\n",
        "  popular_startup_name\n",
        "ORDER BY\n",
        "  total_score DESC"
      ],
      "metadata": {
        "id": "06QX_56CQWcv"
      },
      "execution_count": null,
      "outputs": []
    },
    {
      "cell_type": "code",
      "source": [
        "# YOUR PLOT CODE HERE\n",
        "plt.figure()\n",
        "plt.bar(p[\"popular_startup_name\"], p[\"total_score\"])\n",
        "plt.title(\"startup_ranking_score\")\n",
        "plt.xlabel(\"popular_startup_name\")\n",
        "plt.ylabel(\"total_score\")"
      ],
      "metadata": {
        "colab": {
          "base_uri": "https://localhost:8080/",
          "height": 278
        },
        "id": "y0TgQE6sRP1K",
        "outputId": "1a1fb7d9-2aa6-4ae1-dd1e-3d5549965206"
      },
      "execution_count": null,
      "outputs": [
        {
          "output_type": "execute_result",
          "data": {
            "text/plain": [
              "Text(0, 0.5, 'total_score')"
            ]
          },
          "metadata": {},
          "execution_count": 52
        },
        {
          "output_type": "display_data",
          "data": {
            "text/plain": [
              "<Figure size 1080x252 with 1 Axes>"
            ],
            "image/png": "[encoded data removed]"
          },
          "metadata": {
            "needs_background": "light"
          }
        }
      ]
    },
    {
      "cell_type": "markdown",
      "metadata": {
        "id": "NhFSJifsiC1U"
      },
      "source": [
        "## Data Prediction"
      ]
    },
    {
      "cell_type": "markdown",
      "source": [
        "---\n",
        "Create a dataset to store the model\n",
        "---\n",
        "\n",
        "\n"
      ],
      "metadata": {
        "id": "91xrJp_hICGa"
      }
    },
    {
      "cell_type": "code",
      "source": [
        "# Run this cell to create a dataset to store your model, or create in the UI\n",
        "\n",
        "model_dataset_name = 'hacker_news'\n",
        "\n",
        "dataset = bigquery.Dataset(client.dataset(model_dataset_name))\n",
        "dataset.location = 'US'\n",
        "client.create_dataset(dataset)"
      ],
      "metadata": {
        "colab": {
          "base_uri": "https://localhost:8080/"
        },
        "id": "7QuOuPw0Eec-",
        "outputId": "b4d04bef-c2fa-4729-fdbe-03cef9ad822f"
      },
      "execution_count": 5,
      "outputs": [
        {
          "output_type": "execute_result",
          "data": {
            "text/plain": [
              "Dataset(DatasetReference('project3-db-346816', 'hacker_news'))"
            ]
          },
          "metadata": {},
          "execution_count": 5
        }
      ]
    },
    {
      "cell_type": "markdown",
      "source": [
        "---\n",
        "Train a model\n",
        "---"
      ],
      "metadata": {
        "id": "4cD9FW9wIctn"
      }
    },
    {
      "cell_type": "markdown",
      "source": [
        "---\n",
        "Predicting score from titles\n",
        "---"
      ],
      "metadata": {
        "id": "YRFlwulPIkDQ"
      }
    },
    {
      "cell_type": "code",
      "source": [
        "%%bigquery --project $project_id\n",
        "\n",
        "# YOUR QUERY HERE\n",
        "\n",
        "CREATE OR REPLACE MODEL\n",
        "  `hacker_news.HN_model` OPTIONS(model_type='linear_reg') AS\n",
        "SELECT\n",
        "  score AS label,\n",
        "  title AS feature\n",
        "FROM\n",
        "  `bigquery-public-data.hacker_news.stories`\n",
        "WHERE\n",
        "  score <250\n",
        "  AND title LIKE \"%security\""
      ],
      "metadata": {
        "id": "qUETz8ZmRbqI",
        "colab": {
          "base_uri": "https://localhost:8080/",
          "height": 49
        },
        "outputId": "8feb9d4c-8eaa-4b4f-94e4-2b68fb3a89b6"
      },
      "execution_count": 37,
      "outputs": [
        {
          "output_type": "execute_result",
          "data": {
            "text/plain": [
              "Empty DataFrame\n",
              "Columns: []\n",
              "Index: []"
            ],
            "text/html": [
              "\n",
              "  <div id=\"df-802773a7-7e0c-4a62-873e-edc78d1d42b0\">\n",
              "    <div class=\"colab-df-container\">\n",
              "      <div>\n",
              "<style scoped>\n",
              "    .dataframe tbody tr th:only-of-type {\n",
              "        vertical-align: middle;\n",
              "    }\n",
              "\n",
              "    .dataframe tbody tr th {\n",
              "        vertical-align: top;\n",
              "    }\n",
              "\n",
              "    .dataframe thead th {\n",
              "        text-align: right;\n",
              "    }\n",
              "</style>\n",
              "<table border=\"1\" class=\"dataframe\">\n",
              "  <thead>\n",
              "    <tr style=\"text-align: right;\">\n",
              "      <th></th>\n",
              "    </tr>\n",
              "  </thead>\n",
              "  <tbody>\n",
              "  </tbody>\n",
              "</table>\n",
              "</div>\n",
              "      <button class=\"colab-df-convert\" onclick=\"convertToInteractive('df-802773a7-7e0c-4a62-873e-edc78d1d42b0')\"\n",
              "              title=\"Convert this dataframe to an interactive table.\"\n",
              "              style=\"display:none;\">\n",
              "        \n",
              "  <svg xmlns=\"http://www.w3.org/2000/svg\" height=\"24px\"viewBox=\"0 0 24 24\"\n",
              "       width=\"24px\">\n",
              "    <path d=\"M0 0h24v24H0V0z\" fill=\"none\"/>\n",
              "    <path d=\"M18.56 5.44l.94 2.06.94-2.06 2.06-.94-2.06-.94-.94-2.06-.94 2.06-2.06.94zm-11 1L8.5 8.5l.94-2.06 2.06-.94-2.06-.94L8.5 2.5l-.94 2.06-2.06.94zm10 10l.94 2.06.94-2.06 2.06-.94-2.06-.94-.94-2.06-.94 2.06-2.06.94z\"/><path d=\"M17.41 7.96l-1.37-1.37c-.4-.4-.92-.59-1.43-.59-.52 0-1.04.2-1.43.59L10.3 9.45l-7.72 7.72c-.78.78-.78 2.05 0 2.83L4 21.41c.39.39.9.59 1.41.59.51 0 1.02-.2 1.41-.59l7.78-7.78 2.81-2.81c.8-.78.8-2.07 0-2.86zM5.41 20L4 18.59l7.72-7.72 1.47 1.35L5.41 20z\"/>\n",
              "  </svg>\n",
              "      </button>\n",
              "      \n",
              "  <style>\n",
              "    .colab-df-container {\n",
              "      display:flex;\n",
              "      flex-wrap:wrap;\n",
              "      gap: 12px;\n",
              "    }\n",
              "\n",
              "    .colab-df-convert {\n",
              "      background-color: #E8F0FE;\n",
              "      border: none;\n",
              "      border-radius: 50%;\n",
              "      cursor: pointer;\n",
              "      display: none;\n",
              "      fill: #1967D2;\n",
              "      height: 32px;\n",
              "      padding: 0 0 0 0;\n",
              "      width: 32px;\n",
              "    }\n",
              "\n",
              "    .colab-df-convert:hover {\n",
              "      background-color: #E2EBFA;\n",
              "      box-shadow: 0px 1px 2px rgba(60, 64, 67, 0.3), 0px 1px 3px 1px rgba(60, 64, 67, 0.15);\n",
              "      fill: #174EA6;\n",
              "    }\n",
              "\n",
              "    [theme=dark] .colab-df-convert {\n",
              "      background-color: #3B4455;\n",
              "      fill: #D2E3FC;\n",
              "    }\n",
              "\n",
              "    [theme=dark] .colab-df-convert:hover {\n",
              "      background-color: #434B5C;\n",
              "      box-shadow: 0px 1px 3px 1px rgba(0, 0, 0, 0.15);\n",
              "      filter: drop-shadow(0px 1px 2px rgba(0, 0, 0, 0.3));\n",
              "      fill: #FFFFFF;\n",
              "    }\n",
              "  </style>\n",
              "\n",
              "      <script>\n",
              "        const buttonEl =\n",
              "          document.querySelector('#df-802773a7-7e0c-4a62-873e-edc78d1d42b0 button.colab-df-convert');\n",
              "        buttonEl.style.display =\n",
              "          google.colab.kernel.accessAllowed ? 'block' : 'none';\n",
              "\n",
              "        async function convertToInteractive(key) {\n",
              "          const element = document.querySelector('#df-802773a7-7e0c-4a62-873e-edc78d1d42b0');\n",
              "          const dataTable =\n",
              "            await google.colab.kernel.invokeFunction('convertToInteractive',\n",
              "                                                     [key], {});\n",
              "          if (!dataTable) return;\n",
              "\n",
              "          const docLinkHtml = 'Like what you see? Visit the ' +\n",
              "            '<a target=\"_blank\" href=https://colab.research.google.com/notebooks/data_table.ipynb>data table notebook</a>'\n",
              "            + ' to learn more about interactive tables.';\n",
              "          element.innerHTML = '';\n",
              "          dataTable['output_type'] = 'display_data';\n",
              "          await google.colab.output.renderOutput(dataTable, element);\n",
              "          const docLink = document.createElement('div');\n",
              "          docLink.innerHTML = docLinkHtml;\n",
              "          element.appendChild(docLink);\n",
              "        }\n",
              "      </script>\n",
              "    </div>\n",
              "  </div>\n",
              "  "
            ]
          },
          "metadata": {},
          "execution_count": 37
        }
      ]
    },
    {
      "cell_type": "markdown",
      "metadata": {
        "id": "ofeY7XQuyhOU"
      },
      "source": [
        "---\n",
        "Statistics Of Model\n",
        "---\n"
      ]
    },
    {
      "cell_type": "code",
      "source": [
        "%%bigquery --project $project_id\n",
        "\n",
        "# Run cell to view training stats\n",
        "\n",
        "SELECT\n",
        "  *\n",
        "FROM\n",
        "  ML.TRAINING_INFO(MODEL `hacker_news.HN_model`)"
      ],
      "metadata": {
        "colab": {
          "base_uri": "https://localhost:8080/",
          "height": 677
        },
        "id": "PZo1o2-YI9iy",
        "outputId": "5c72e30f-66f7-476f-bd17-b525729be917"
      },
      "execution_count": 38,
      "outputs": [
        {
          "output_type": "execute_result",
          "data": {
            "text/plain": [
              "    training_run  iteration          loss eval_loss  learning_rate  \\\n",
              "0              0         19  7.845067e-08      None       104857.6   \n",
              "1              0         18  1.568982e-07      None        52428.8   \n",
              "2              0         17  3.137924e-07      None        26214.4   \n",
              "3              0         16  6.275879e-07      None        13107.2   \n",
              "4              0         15  1.255229e-06      None         6553.6   \n",
              "5              0         14  2.510759e-06      None         3276.8   \n",
              "6              0         13  5.022908e-06      None         1638.4   \n",
              "7              0         12  1.005180e-05      None          819.2   \n",
              "8              0         11  2.012857e-05      None          409.6   \n",
              "9              0         10  4.035999e-05      None          204.8   \n",
              "10             0          9  8.114362e-05      None          102.4   \n",
              "11             0          8  1.640504e-04      None           51.2   \n",
              "12             0          7  3.356309e-04      None           25.6   \n",
              "13             0          6  7.052642e-04      None           12.8   \n",
              "14             0          5  1.585858e-03      None            6.4   \n",
              "15             0          4  5.051087e-03      None            3.2   \n",
              "16             0          3  2.864455e-02      None            1.6   \n",
              "17             0          2  5.845350e-02      None            0.8   \n",
              "18             0          1  7.641767e-02      None            0.4   \n",
              "19             0          0  8.580849e-02      None            0.2   \n",
              "\n",
              "    duration_ms  \n",
              "0          2621  \n",
              "1          2810  \n",
              "2          2882  \n",
              "3          2706  \n",
              "4          2443  \n",
              "5          2549  \n",
              "6          2490  \n",
              "7          2775  \n",
              "8          2652  \n",
              "9          2477  \n",
              "10         2774  \n",
              "11         2643  \n",
              "12         2635  \n",
              "13         3173  \n",
              "14         2763  \n",
              "15         2844  \n",
              "16         2909  \n",
              "17         3214  \n",
              "18         2827  \n",
              "19         2418  "
            ],
            "text/html": [
              "\n",
              "  <div id=\"df-f0651acd-34eb-4ec2-8d7e-c87c15c85794\">\n",
              "    <div class=\"colab-df-container\">\n",
              "      <div>\n",
              "<style scoped>\n",
              "    .dataframe tbody tr th:only-of-type {\n",
              "        vertical-align: middle;\n",
              "    }\n",
              "\n",
              "    .dataframe tbody tr th {\n",
              "        vertical-align: top;\n",
              "    }\n",
              "\n",
              "    .dataframe thead th {\n",
              "        text-align: right;\n",
              "    }\n",
              "</style>\n",
              "<table border=\"1\" class=\"dataframe\">\n",
              "  <thead>\n",
              "    <tr style=\"text-align: right;\">\n",
              "      <th></th>\n",
              "      <th>training_run</th>\n",
              "      <th>iteration</th>\n",
              "      <th>loss</th>\n",
              "      <th>eval_loss</th>\n",
              "      <th>learning_rate</th>\n",
              "      <th>duration_ms</th>\n",
              "    </tr>\n",
              "  </thead>\n",
              "  <tbody>\n",
              "    <tr>\n",
              "      <th>0</th>\n",
              "      <td>0</td>\n",
              "      <td>19</td>\n",
              "      <td>7.845067e-08</td>\n",
              "      <td>None</td>\n",
              "      <td>104857.6</td>\n",
              "      <td>2621</td>\n",
              "    </tr>\n",
              "    <tr>\n",
              "      <th>1</th>\n",
              "      <td>0</td>\n",
              "      <td>18</td>\n",
              "      <td>1.568982e-07</td>\n",
              "      <td>None</td>\n",
              "      <td>52428.8</td>\n",
              "      <td>2810</td>\n",
              "    </tr>\n",
              "    <tr>\n",
              "      <th>2</th>\n",
              "      <td>0</td>\n",
              "      <td>17</td>\n",
              "      <td>3.137924e-07</td>\n",
              "      <td>None</td>\n",
              "      <td>26214.4</td>\n",
              "      <td>2882</td>\n",
              "    </tr>\n",
              "    <tr>\n",
              "      <th>3</th>\n",
              "      <td>0</td>\n",
              "      <td>16</td>\n",
              "      <td>6.275879e-07</td>\n",
              "      <td>None</td>\n",
              "      <td>13107.2</td>\n",
              "      <td>2706</td>\n",
              "    </tr>\n",
              "    <tr>\n",
              "      <th>4</th>\n",
              "      <td>0</td>\n",
              "      <td>15</td>\n",
              "      <td>1.255229e-06</td>\n",
              "      <td>None</td>\n",
              "      <td>6553.6</td>\n",
              "      <td>2443</td>\n",
              "    </tr>\n",
              "    <tr>\n",
              "      <th>5</th>\n",
              "      <td>0</td>\n",
              "      <td>14</td>\n",
              "      <td>2.510759e-06</td>\n",
              "      <td>None</td>\n",
              "      <td>3276.8</td>\n",
              "      <td>2549</td>\n",
              "    </tr>\n",
              "    <tr>\n",
              "      <th>6</th>\n",
              "      <td>0</td>\n",
              "      <td>13</td>\n",
              "      <td>5.022908e-06</td>\n",
              "      <td>None</td>\n",
              "      <td>1638.4</td>\n",
              "      <td>2490</td>\n",
              "    </tr>\n",
              "    <tr>\n",
              "      <th>7</th>\n",
              "      <td>0</td>\n",
              "      <td>12</td>\n",
              "      <td>1.005180e-05</td>\n",
              "      <td>None</td>\n",
              "      <td>819.2</td>\n",
              "      <td>2775</td>\n",
              "    </tr>\n",
              "    <tr>\n",
              "      <th>8</th>\n",
              "      <td>0</td>\n",
              "      <td>11</td>\n",
              "      <td>2.012857e-05</td>\n",
              "      <td>None</td>\n",
              "      <td>409.6</td>\n",
              "      <td>2652</td>\n",
              "    </tr>\n",
              "    <tr>\n",
              "      <th>9</th>\n",
              "      <td>0</td>\n",
              "      <td>10</td>\n",
              "      <td>4.035999e-05</td>\n",
              "      <td>None</td>\n",
              "      <td>204.8</td>\n",
              "      <td>2477</td>\n",
              "    </tr>\n",
              "    <tr>\n",
              "      <th>10</th>\n",
              "      <td>0</td>\n",
              "      <td>9</td>\n",
              "      <td>8.114362e-05</td>\n",
              "      <td>None</td>\n",
              "      <td>102.4</td>\n",
              "      <td>2774</td>\n",
              "    </tr>\n",
              "    <tr>\n",
              "      <th>11</th>\n",
              "      <td>0</td>\n",
              "      <td>8</td>\n",
              "      <td>1.640504e-04</td>\n",
              "      <td>None</td>\n",
              "      <td>51.2</td>\n",
              "      <td>2643</td>\n",
              "    </tr>\n",
              "    <tr>\n",
              "      <th>12</th>\n",
              "      <td>0</td>\n",
              "      <td>7</td>\n",
              "      <td>3.356309e-04</td>\n",
              "      <td>None</td>\n",
              "      <td>25.6</td>\n",
              "      <td>2635</td>\n",
              "    </tr>\n",
              "    <tr>\n",
              "      <th>13</th>\n",
              "      <td>0</td>\n",
              "      <td>6</td>\n",
              "      <td>7.052642e-04</td>\n",
              "      <td>None</td>\n",
              "      <td>12.8</td>\n",
              "      <td>3173</td>\n",
              "    </tr>\n",
              "    <tr>\n",
              "      <th>14</th>\n",
              "      <td>0</td>\n",
              "      <td>5</td>\n",
              "      <td>1.585858e-03</td>\n",
              "      <td>None</td>\n",
              "      <td>6.4</td>\n",
              "      <td>2763</td>\n",
              "    </tr>\n",
              "    <tr>\n",
              "      <th>15</th>\n",
              "      <td>0</td>\n",
              "      <td>4</td>\n",
              "      <td>5.051087e-03</td>\n",
              "      <td>None</td>\n",
              "      <td>3.2</td>\n",
              "      <td>2844</td>\n",
              "    </tr>\n",
              "    <tr>\n",
              "      <th>16</th>\n",
              "      <td>0</td>\n",
              "      <td>3</td>\n",
              "      <td>2.864455e-02</td>\n",
              "      <td>None</td>\n",
              "      <td>1.6</td>\n",
              "      <td>2909</td>\n",
              "    </tr>\n",
              "    <tr>\n",
              "      <th>17</th>\n",
              "      <td>0</td>\n",
              "      <td>2</td>\n",
              "      <td>5.845350e-02</td>\n",
              "      <td>None</td>\n",
              "      <td>0.8</td>\n",
              "      <td>3214</td>\n",
              "    </tr>\n",
              "    <tr>\n",
              "      <th>18</th>\n",
              "      <td>0</td>\n",
              "      <td>1</td>\n",
              "      <td>7.641767e-02</td>\n",
              "      <td>None</td>\n",
              "      <td>0.4</td>\n",
              "      <td>2827</td>\n",
              "    </tr>\n",
              "    <tr>\n",
              "      <th>19</th>\n",
              "      <td>0</td>\n",
              "      <td>0</td>\n",
              "      <td>8.580849e-02</td>\n",
              "      <td>None</td>\n",
              "      <td>0.2</td>\n",
              "      <td>2418</td>\n",
              "    </tr>\n",
              "  </tbody>\n",
              "</table>\n",
              "</div>\n",
              "      <button class=\"colab-df-convert\" onclick=\"convertToInteractive('df-f0651acd-34eb-4ec2-8d7e-c87c15c85794')\"\n",
              "              title=\"Convert this dataframe to an interactive table.\"\n",
              "              style=\"display:none;\">\n",
              "        \n",
              "  <svg xmlns=\"http://www.w3.org/2000/svg\" height=\"24px\"viewBox=\"0 0 24 24\"\n",
              "       width=\"24px\">\n",
              "    <path d=\"M0 0h24v24H0V0z\" fill=\"none\"/>\n",
              "    <path d=\"M18.56 5.44l.94 2.06.94-2.06 2.06-.94-2.06-.94-.94-2.06-.94 2.06-2.06.94zm-11 1L8.5 8.5l.94-2.06 2.06-.94-2.06-.94L8.5 2.5l-.94 2.06-2.06.94zm10 10l.94 2.06.94-2.06 2.06-.94-2.06-.94-.94-2.06-.94 2.06-2.06.94z\"/><path d=\"M17.41 7.96l-1.37-1.37c-.4-.4-.92-.59-1.43-.59-.52 0-1.04.2-1.43.59L10.3 9.45l-7.72 7.72c-.78.78-.78 2.05 0 2.83L4 21.41c.39.39.9.59 1.41.59.51 0 1.02-.2 1.41-.59l7.78-7.78 2.81-2.81c.8-.78.8-2.07 0-2.86zM5.41 20L4 18.59l7.72-7.72 1.47 1.35L5.41 20z\"/>\n",
              "  </svg>\n",
              "      </button>\n",
              "      \n",
              "  <style>\n",
              "    .colab-df-container {\n",
              "      display:flex;\n",
              "      flex-wrap:wrap;\n",
              "      gap: 12px;\n",
              "    }\n",
              "\n",
              "    .colab-df-convert {\n",
              "      background-color: #E8F0FE;\n",
              "      border: none;\n",
              "      border-radius: 50%;\n",
              "      cursor: pointer;\n",
              "      display: none;\n",
              "      fill: #1967D2;\n",
              "      height: 32px;\n",
              "      padding: 0 0 0 0;\n",
              "      width: 32px;\n",
              "    }\n",
              "\n",
              "    .colab-df-convert:hover {\n",
              "      background-color: #E2EBFA;\n",
              "      box-shadow: 0px 1px 2px rgba(60, 64, 67, 0.3), 0px 1px 3px 1px rgba(60, 64, 67, 0.15);\n",
              "      fill: #174EA6;\n",
              "    }\n",
              "\n",
              "    [theme=dark] .colab-df-convert {\n",
              "      background-color: #3B4455;\n",
              "      fill: #D2E3FC;\n",
              "    }\n",
              "\n",
              "    [theme=dark] .colab-df-convert:hover {\n",
              "      background-color: #434B5C;\n",
              "      box-shadow: 0px 1px 3px 1px rgba(0, 0, 0, 0.15);\n",
              "      filter: drop-shadow(0px 1px 2px rgba(0, 0, 0, 0.3));\n",
              "      fill: #FFFFFF;\n",
              "    }\n",
              "  </style>\n",
              "\n",
              "      <script>\n",
              "        const buttonEl =\n",
              "          document.querySelector('#df-f0651acd-34eb-4ec2-8d7e-c87c15c85794 button.colab-df-convert');\n",
              "        buttonEl.style.display =\n",
              "          google.colab.kernel.accessAllowed ? 'block' : 'none';\n",
              "\n",
              "        async function convertToInteractive(key) {\n",
              "          const element = document.querySelector('#df-f0651acd-34eb-4ec2-8d7e-c87c15c85794');\n",
              "          const dataTable =\n",
              "            await google.colab.kernel.invokeFunction('convertToInteractive',\n",
              "                                                     [key], {});\n",
              "          if (!dataTable) return;\n",
              "\n",
              "          const docLinkHtml = 'Like what you see? Visit the ' +\n",
              "            '<a target=\"_blank\" href=https://colab.research.google.com/notebooks/data_table.ipynb>data table notebook</a>'\n",
              "            + ' to learn more about interactive tables.';\n",
              "          element.innerHTML = '';\n",
              "          dataTable['output_type'] = 'display_data';\n",
              "          await google.colab.output.renderOutput(dataTable, element);\n",
              "          const docLink = document.createElement('div');\n",
              "          docLink.innerHTML = docLinkHtml;\n",
              "          element.appendChild(docLink);\n",
              "        }\n",
              "      </script>\n",
              "    </div>\n",
              "  </div>\n",
              "  "
            ]
          },
          "metadata": {},
          "execution_count": 38
        }
      ]
    },
    {
      "cell_type": "markdown",
      "source": [
        "---\n",
        "Evaluate Model\n",
        "---"
      ],
      "metadata": {
        "id": "MOgWFS0-JRhh"
      }
    },
    {
      "cell_type": "code",
      "source": [
        "%%bigquery --project $project_id\n",
        "\n",
        "# YOUR QUERY HERE\n",
        "SELECT\n",
        "  *\n",
        "FROM\n",
        "  ML.EVALUATE(MODEL `hacker_news.HN_model`, (\n",
        "SELECT\n",
        "  score as label,\n",
        "  title as feature\n",
        "FROM\n",
        "  `bigquery-public-data.hacker_news.stories`\n",
        "WHERE\n",
        "  score < 250\n",
        "  AND title LIKE \"%security\"\n",
        "))"
      ],
      "metadata": {
        "colab": {
          "base_uri": "https://localhost:8080/",
          "height": 81
        },
        "id": "rzdXZXXJJVFG",
        "outputId": "be1e6b3a-00d4-4f2a-9865-483906b8f779"
      },
      "execution_count": 64,
      "outputs": [
        {
          "output_type": "execute_result",
          "data": {
            "text/plain": [
              "   mean_absolute_error  mean_squared_error  mean_squared_log_error  \\\n",
              "0             5.043247          245.636034                0.505011   \n",
              "\n",
              "   median_absolute_error  r2_score  explained_variance  \n",
              "0               2.150915  0.562085            0.567964  "
            ],
            "text/html": [
              "\n",
              "  <div id=\"df-a05c2396-c078-433e-9485-695ab788dc1d\">\n",
              "    <div class=\"colab-df-container\">\n",
              "      <div>\n",
              "<style scoped>\n",
              "    .dataframe tbody tr th:only-of-type {\n",
              "        vertical-align: middle;\n",
              "    }\n",
              "\n",
              "    .dataframe tbody tr th {\n",
              "        vertical-align: top;\n",
              "    }\n",
              "\n",
              "    .dataframe thead th {\n",
              "        text-align: right;\n",
              "    }\n",
              "</style>\n",
              "<table border=\"1\" class=\"dataframe\">\n",
              "  <thead>\n",
              "    <tr style=\"text-align: right;\">\n",
              "      <th></th>\n",
              "      <th>mean_absolute_error</th>\n",
              "      <th>mean_squared_error</th>\n",
              "      <th>mean_squared_log_error</th>\n",
              "      <th>median_absolute_error</th>\n",
              "      <th>r2_score</th>\n",
              "      <th>explained_variance</th>\n",
              "    </tr>\n",
              "  </thead>\n",
              "  <tbody>\n",
              "    <tr>\n",
              "      <th>0</th>\n",
              "      <td>5.043247</td>\n",
              "      <td>245.636034</td>\n",
              "      <td>0.505011</td>\n",
              "      <td>2.150915</td>\n",
              "      <td>0.562085</td>\n",
              "      <td>0.567964</td>\n",
              "    </tr>\n",
              "  </tbody>\n",
              "</table>\n",
              "</div>\n",
              "      <button class=\"colab-df-convert\" onclick=\"convertToInteractive('df-a05c2396-c078-433e-9485-695ab788dc1d')\"\n",
              "              title=\"Convert this dataframe to an interactive table.\"\n",
              "              style=\"display:none;\">\n",
              "        \n",
              "  <svg xmlns=\"http://www.w3.org/2000/svg\" height=\"24px\"viewBox=\"0 0 24 24\"\n",
              "       width=\"24px\">\n",
              "    <path d=\"M0 0h24v24H0V0z\" fill=\"none\"/>\n",
              "    <path d=\"M18.56 5.44l.94 2.06.94-2.06 2.06-.94-2.06-.94-.94-2.06-.94 2.06-2.06.94zm-11 1L8.5 8.5l.94-2.06 2.06-.94-2.06-.94L8.5 2.5l-.94 2.06-2.06.94zm10 10l.94 2.06.94-2.06 2.06-.94-2.06-.94-.94-2.06-.94 2.06-2.06.94z\"/><path d=\"M17.41 7.96l-1.37-1.37c-.4-.4-.92-.59-1.43-.59-.52 0-1.04.2-1.43.59L10.3 9.45l-7.72 7.72c-.78.78-.78 2.05 0 2.83L4 21.41c.39.39.9.59 1.41.59.51 0 1.02-.2 1.41-.59l7.78-7.78 2.81-2.81c.8-.78.8-2.07 0-2.86zM5.41 20L4 18.59l7.72-7.72 1.47 1.35L5.41 20z\"/>\n",
              "  </svg>\n",
              "      </button>\n",
              "      \n",
              "  <style>\n",
              "    .colab-df-container {\n",
              "      display:flex;\n",
              "      flex-wrap:wrap;\n",
              "      gap: 12px;\n",
              "    }\n",
              "\n",
              "    .colab-df-convert {\n",
              "      background-color: #E8F0FE;\n",
              "      border: none;\n",
              "      border-radius: 50%;\n",
              "      cursor: pointer;\n",
              "      display: none;\n",
              "      fill: #1967D2;\n",
              "      height: 32px;\n",
              "      padding: 0 0 0 0;\n",
              "      width: 32px;\n",
              "    }\n",
              "\n",
              "    .colab-df-convert:hover {\n",
              "      background-color: #E2EBFA;\n",
              "      box-shadow: 0px 1px 2px rgba(60, 64, 67, 0.3), 0px 1px 3px 1px rgba(60, 64, 67, 0.15);\n",
              "      fill: #174EA6;\n",
              "    }\n",
              "\n",
              "    [theme=dark] .colab-df-convert {\n",
              "      background-color: #3B4455;\n",
              "      fill: #D2E3FC;\n",
              "    }\n",
              "\n",
              "    [theme=dark] .colab-df-convert:hover {\n",
              "      background-color: #434B5C;\n",
              "      box-shadow: 0px 1px 3px 1px rgba(0, 0, 0, 0.15);\n",
              "      filter: drop-shadow(0px 1px 2px rgba(0, 0, 0, 0.3));\n",
              "      fill: #FFFFFF;\n",
              "    }\n",
              "  </style>\n",
              "\n",
              "      <script>\n",
              "        const buttonEl =\n",
              "          document.querySelector('#df-a05c2396-c078-433e-9485-695ab788dc1d button.colab-df-convert');\n",
              "        buttonEl.style.display =\n",
              "          google.colab.kernel.accessAllowed ? 'block' : 'none';\n",
              "\n",
              "        async function convertToInteractive(key) {\n",
              "          const element = document.querySelector('#df-a05c2396-c078-433e-9485-695ab788dc1d');\n",
              "          const dataTable =\n",
              "            await google.colab.kernel.invokeFunction('convertToInteractive',\n",
              "                                                     [key], {});\n",
              "          if (!dataTable) return;\n",
              "\n",
              "          const docLinkHtml = 'Like what you see? Visit the ' +\n",
              "            '<a target=\"_blank\" href=https://colab.research.google.com/notebooks/data_table.ipynb>data table notebook</a>'\n",
              "            + ' to learn more about interactive tables.';\n",
              "          element.innerHTML = '';\n",
              "          dataTable['output_type'] = 'display_data';\n",
              "          await google.colab.output.renderOutput(dataTable, element);\n",
              "          const docLink = document.createElement('div');\n",
              "          docLink.innerHTML = docLinkHtml;\n",
              "          element.appendChild(docLink);\n",
              "        }\n",
              "      </script>\n",
              "    </div>\n",
              "  </div>\n",
              "  "
            ]
          },
          "metadata": {},
          "execution_count": 64
        }
      ]
    },
    {
      "cell_type": "markdown",
      "source": [
        "---\n",
        "Evaluate final model on test set\n",
        "---"
      ],
      "metadata": {
        "id": "c7vmBVt8KP-K"
      }
    },
    {
      "cell_type": "code",
      "source": [
        "%%bigquery --project $project_id\n",
        "\n",
        "# YOUR QUERY HERE\n",
        "SELECT\n",
        "  *\n",
        "FROM\n",
        "  ML.EVALUATE(MODEL `hacker_news.HN_model`, (\n",
        "SELECT\n",
        "  score as label,\n",
        "  title as feature\n",
        "FROM\n",
        "  `bigquery-public-data.hacker_news.stories`\n",
        "WHERE\n",
        "  score < 1000\n",
        "  AND title LIKE \"%security\"\n",
        "))"
      ],
      "metadata": {
        "colab": {
          "base_uri": "https://localhost:8080/",
          "height": 81
        },
        "id": "3yCF0TI_KWQa",
        "outputId": "297465e6-becc-43a3-e8f3-276c3e2f4087"
      },
      "execution_count": 63,
      "outputs": [
        {
          "output_type": "execute_result",
          "data": {
            "text/plain": [
              "   mean_absolute_error  mean_squared_error  mean_squared_log_error  \\\n",
              "0             8.723427          1860.65805                0.687637   \n",
              "\n",
              "   median_absolute_error  r2_score  explained_variance  \n",
              "0               2.150915  0.125758             0.14011  "
            ],
            "text/html": [
              "\n",
              "  <div id=\"df-dc1742cd-78cc-4d9f-af5c-8f2b5280d53d\">\n",
              "    <div class=\"colab-df-container\">\n",
              "      <div>\n",
              "<style scoped>\n",
              "    .dataframe tbody tr th:only-of-type {\n",
              "        vertical-align: middle;\n",
              "    }\n",
              "\n",
              "    .dataframe tbody tr th {\n",
              "        vertical-align: top;\n",
              "    }\n",
              "\n",
              "    .dataframe thead th {\n",
              "        text-align: right;\n",
              "    }\n",
              "</style>\n",
              "<table border=\"1\" class=\"dataframe\">\n",
              "  <thead>\n",
              "    <tr style=\"text-align: right;\">\n",
              "      <th></th>\n",
              "      <th>mean_absolute_error</th>\n",
              "      <th>mean_squared_error</th>\n",
              "      <th>mean_squared_log_error</th>\n",
              "      <th>median_absolute_error</th>\n",
              "      <th>r2_score</th>\n",
              "      <th>explained_variance</th>\n",
              "    </tr>\n",
              "  </thead>\n",
              "  <tbody>\n",
              "    <tr>\n",
              "      <th>0</th>\n",
              "      <td>8.723427</td>\n",
              "      <td>1860.65805</td>\n",
              "      <td>0.687637</td>\n",
              "      <td>2.150915</td>\n",
              "      <td>0.125758</td>\n",
              "      <td>0.14011</td>\n",
              "    </tr>\n",
              "  </tbody>\n",
              "</table>\n",
              "</div>\n",
              "      <button class=\"colab-df-convert\" onclick=\"convertToInteractive('df-dc1742cd-78cc-4d9f-af5c-8f2b5280d53d')\"\n",
              "              title=\"Convert this dataframe to an interactive table.\"\n",
              "              style=\"display:none;\">\n",
              "        \n",
              "  <svg xmlns=\"http://www.w3.org/2000/svg\" height=\"24px\"viewBox=\"0 0 24 24\"\n",
              "       width=\"24px\">\n",
              "    <path d=\"M0 0h24v24H0V0z\" fill=\"none\"/>\n",
              "    <path d=\"M18.56 5.44l.94 2.06.94-2.06 2.06-.94-2.06-.94-.94-2.06-.94 2.06-2.06.94zm-11 1L8.5 8.5l.94-2.06 2.06-.94-2.06-.94L8.5 2.5l-.94 2.06-2.06.94zm10 10l.94 2.06.94-2.06 2.06-.94-2.06-.94-.94-2.06-.94 2.06-2.06.94z\"/><path d=\"M17.41 7.96l-1.37-1.37c-.4-.4-.92-.59-1.43-.59-.52 0-1.04.2-1.43.59L10.3 9.45l-7.72 7.72c-.78.78-.78 2.05 0 2.83L4 21.41c.39.39.9.59 1.41.59.51 0 1.02-.2 1.41-.59l7.78-7.78 2.81-2.81c.8-.78.8-2.07 0-2.86zM5.41 20L4 18.59l7.72-7.72 1.47 1.35L5.41 20z\"/>\n",
              "  </svg>\n",
              "      </button>\n",
              "      \n",
              "  <style>\n",
              "    .colab-df-container {\n",
              "      display:flex;\n",
              "      flex-wrap:wrap;\n",
              "      gap: 12px;\n",
              "    }\n",
              "\n",
              "    .colab-df-convert {\n",
              "      background-color: #E8F0FE;\n",
              "      border: none;\n",
              "      border-radius: 50%;\n",
              "      cursor: pointer;\n",
              "      display: none;\n",
              "      fill: #1967D2;\n",
              "      height: 32px;\n",
              "      padding: 0 0 0 0;\n",
              "      width: 32px;\n",
              "    }\n",
              "\n",
              "    .colab-df-convert:hover {\n",
              "      background-color: #E2EBFA;\n",
              "      box-shadow: 0px 1px 2px rgba(60, 64, 67, 0.3), 0px 1px 3px 1px rgba(60, 64, 67, 0.15);\n",
              "      fill: #174EA6;\n",
              "    }\n",
              "\n",
              "    [theme=dark] .colab-df-convert {\n",
              "      background-color: #3B4455;\n",
              "      fill: #D2E3FC;\n",
              "    }\n",
              "\n",
              "    [theme=dark] .colab-df-convert:hover {\n",
              "      background-color: #434B5C;\n",
              "      box-shadow: 0px 1px 3px 1px rgba(0, 0, 0, 0.15);\n",
              "      filter: drop-shadow(0px 1px 2px rgba(0, 0, 0, 0.3));\n",
              "      fill: #FFFFFF;\n",
              "    }\n",
              "  </style>\n",
              "\n",
              "      <script>\n",
              "        const buttonEl =\n",
              "          document.querySelector('#df-dc1742cd-78cc-4d9f-af5c-8f2b5280d53d button.colab-df-convert');\n",
              "        buttonEl.style.display =\n",
              "          google.colab.kernel.accessAllowed ? 'block' : 'none';\n",
              "\n",
              "        async function convertToInteractive(key) {\n",
              "          const element = document.querySelector('#df-dc1742cd-78cc-4d9f-af5c-8f2b5280d53d');\n",
              "          const dataTable =\n",
              "            await google.colab.kernel.invokeFunction('convertToInteractive',\n",
              "                                                     [key], {});\n",
              "          if (!dataTable) return;\n",
              "\n",
              "          const docLinkHtml = 'Like what you see? Visit the ' +\n",
              "            '<a target=\"_blank\" href=https://colab.research.google.com/notebooks/data_table.ipynb>data table notebook</a>'\n",
              "            + ' to learn more about interactive tables.';\n",
              "          element.innerHTML = '';\n",
              "          dataTable['output_type'] = 'display_data';\n",
              "          await google.colab.output.renderOutput(dataTable, element);\n",
              "          const docLink = document.createElement('div');\n",
              "          docLink.innerHTML = docLinkHtml;\n",
              "          element.appendChild(docLink);\n",
              "        }\n",
              "      </script>\n",
              "    </div>\n",
              "  </div>\n",
              "  "
            ]
          },
          "metadata": {},
          "execution_count": 63
        }
      ]
    },
    {
      "cell_type": "markdown",
      "source": [
        "---\n",
        "Use the trained model to predict\n",
        "---"
      ],
      "metadata": {
        "id": "-AG-VQH0LAfE"
      }
    },
    {
      "cell_type": "code",
      "source": [
        "%%bigquery --project $project_id\n",
        "\n",
        "# YOUR QUERY HERE\n",
        "SELECT\n",
        "*\n",
        "FROM\n",
        " ML.PREDICT(MODEL `hacker_news.HN_model`, (\n",
        "SELECT\n",
        " score,\n",
        " title as feature\n",
        "FROM\n",
        " `bigquery-public-data.hacker_news.stories`\n",
        "where score between 3 and 5\n",
        "  AND title LIKE \"%security\"))\n",
        "\n",
        "LIMIT 20"
      ],
      "metadata": {
        "colab": {
          "base_uri": "https://localhost:8080/",
          "height": 677
        },
        "id": "dskcrSgXLC_Z",
        "outputId": "a40cb79b-a4d2-4152-85b3-fcfe630d47e8"
      },
      "execution_count": 62,
      "outputs": [
        {
          "output_type": "execute_result",
          "data": {
            "text/plain": [
              "    predicted_label  score                                            feature\n",
              "0          3.215563      3  Ask HN: Need your input on an idea in the real...\n",
              "1          4.710915      4  Tell HN: Unfuddle (svn hosting) has bad passwo...\n",
              "2          3.215563      5  Download HD Instagram image bypassing instagra...\n",
              "3          3.215563      3               A Civil Perspective on Cybersecurity\n",
              "4          4.190915      3                 Introduction to API(REST) security\n",
              "5          4.190915      3  Research on poker a good deal for airport secu...\n",
              "6          4.190915      3                           Hacker news for security\n",
              "7          4.190915      3  8-Year-Old CEO Reuben Paul Proves That Kids Ar...\n",
              "8          3.670915      3             Beginner’s Guide to API(REST) security\n",
              "9          4.190915      3              Test/grade your email server security\n",
              "10         4.710915      4  NASA surplus computer sale compromised data se...\n",
              "11         4.970915      5  How hackers gave Subway a $30 million lesson i...\n",
              "12         5.230915      5                     Experts on Mac vs. PC security\n",
              "13         3.215563      3  Going to the doctor and worrying about cyberse...\n",
              "14         3.215563      3        The terahertz revolution and local security\n",
              "15         4.190915      3  Keystroke fingerprinting - using Javascript to...\n",
              "16         3.215563      3  Cyber War: Microsoft a weak link in national s...\n",
              "17         4.190915      3  Booby-trapping PDF files: A new how-to; Built-...\n",
              "18         3.215563      3                  Schneier hacking airport security\n",
              "19         3.215563      3                        Central Asian Cybersecurity"
            ],
            "text/html": [
              "\n",
              "  <div id=\"df-b782cba2-1251-40db-af33-10e9a50f68ba\">\n",
              "    <div class=\"colab-df-container\">\n",
              "      <div>\n",
              "<style scoped>\n",
              "    .dataframe tbody tr th:only-of-type {\n",
              "        vertical-align: middle;\n",
              "    }\n",
              "\n",
              "    .dataframe tbody tr th {\n",
              "        vertical-align: top;\n",
              "    }\n",
              "\n",
              "    .dataframe thead th {\n",
              "        text-align: right;\n",
              "    }\n",
              "</style>\n",
              "<table border=\"1\" class=\"dataframe\">\n",
              "  <thead>\n",
              "    <tr style=\"text-align: right;\">\n",
              "      <th></th>\n",
              "      <th>predicted_label</th>\n",
              "      <th>score</th>\n",
              "      <th>feature</th>\n",
              "    </tr>\n",
              "  </thead>\n",
              "  <tbody>\n",
              "    <tr>\n",
              "      <th>0</th>\n",
              "      <td>3.215563</td>\n",
              "      <td>3</td>\n",
              "      <td>Ask HN: Need your input on an idea in the real...</td>\n",
              "    </tr>\n",
              "    <tr>\n",
              "      <th>1</th>\n",
              "      <td>4.710915</td>\n",
              "      <td>4</td>\n",
              "      <td>Tell HN: Unfuddle (svn hosting) has bad passwo...</td>\n",
              "    </tr>\n",
              "    <tr>\n",
              "      <th>2</th>\n",
              "      <td>3.215563</td>\n",
              "      <td>5</td>\n",
              "      <td>Download HD Instagram image bypassing instagra...</td>\n",
              "    </tr>\n",
              "    <tr>\n",
              "      <th>3</th>\n",
              "      <td>3.215563</td>\n",
              "      <td>3</td>\n",
              "      <td>A Civil Perspective on Cybersecurity</td>\n",
              "    </tr>\n",
              "    <tr>\n",
              "      <th>4</th>\n",
              "      <td>4.190915</td>\n",
              "      <td>3</td>\n",
              "      <td>Introduction to API(REST) security</td>\n",
              "    </tr>\n",
              "    <tr>\n",
              "      <th>5</th>\n",
              "      <td>4.190915</td>\n",
              "      <td>3</td>\n",
              "      <td>Research on poker a good deal for airport secu...</td>\n",
              "    </tr>\n",
              "    <tr>\n",
              "      <th>6</th>\n",
              "      <td>4.190915</td>\n",
              "      <td>3</td>\n",
              "      <td>Hacker news for security</td>\n",
              "    </tr>\n",
              "    <tr>\n",
              "      <th>7</th>\n",
              "      <td>4.190915</td>\n",
              "      <td>3</td>\n",
              "      <td>8-Year-Old CEO Reuben Paul Proves That Kids Ar...</td>\n",
              "    </tr>\n",
              "    <tr>\n",
              "      <th>8</th>\n",
              "      <td>3.670915</td>\n",
              "      <td>3</td>\n",
              "      <td>Beginner’s Guide to API(REST) security</td>\n",
              "    </tr>\n",
              "    <tr>\n",
              "      <th>9</th>\n",
              "      <td>4.190915</td>\n",
              "      <td>3</td>\n",
              "      <td>Test/grade your email server security</td>\n",
              "    </tr>\n",
              "    <tr>\n",
              "      <th>10</th>\n",
              "      <td>4.710915</td>\n",
              "      <td>4</td>\n",
              "      <td>NASA surplus computer sale compromised data se...</td>\n",
              "    </tr>\n",
              "    <tr>\n",
              "      <th>11</th>\n",
              "      <td>4.970915</td>\n",
              "      <td>5</td>\n",
              "      <td>How hackers gave Subway a $30 million lesson i...</td>\n",
              "    </tr>\n",
              "    <tr>\n",
              "      <th>12</th>\n",
              "      <td>5.230915</td>\n",
              "      <td>5</td>\n",
              "      <td>Experts on Mac vs. PC security</td>\n",
              "    </tr>\n",
              "    <tr>\n",
              "      <th>13</th>\n",
              "      <td>3.215563</td>\n",
              "      <td>3</td>\n",
              "      <td>Going to the doctor and worrying about cyberse...</td>\n",
              "    </tr>\n",
              "    <tr>\n",
              "      <th>14</th>\n",
              "      <td>3.215563</td>\n",
              "      <td>3</td>\n",
              "      <td>The terahertz revolution and local security</td>\n",
              "    </tr>\n",
              "    <tr>\n",
              "      <th>15</th>\n",
              "      <td>4.190915</td>\n",
              "      <td>3</td>\n",
              "      <td>Keystroke fingerprinting - using Javascript to...</td>\n",
              "    </tr>\n",
              "    <tr>\n",
              "      <th>16</th>\n",
              "      <td>3.215563</td>\n",
              "      <td>3</td>\n",
              "      <td>Cyber War: Microsoft a weak link in national s...</td>\n",
              "    </tr>\n",
              "    <tr>\n",
              "      <th>17</th>\n",
              "      <td>4.190915</td>\n",
              "      <td>3</td>\n",
              "      <td>Booby-trapping PDF files: A new how-to; Built-...</td>\n",
              "    </tr>\n",
              "    <tr>\n",
              "      <th>18</th>\n",
              "      <td>3.215563</td>\n",
              "      <td>3</td>\n",
              "      <td>Schneier hacking airport security</td>\n",
              "    </tr>\n",
              "    <tr>\n",
              "      <th>19</th>\n",
              "      <td>3.215563</td>\n",
              "      <td>3</td>\n",
              "      <td>Central Asian Cybersecurity</td>\n",
              "    </tr>\n",
              "  </tbody>\n",
              "</table>\n",
              "</div>\n",
              "      <button class=\"colab-df-convert\" onclick=\"convertToInteractive('df-b782cba2-1251-40db-af33-10e9a50f68ba')\"\n",
              "              title=\"Convert this dataframe to an interactive table.\"\n",
              "              style=\"display:none;\">\n",
              "        \n",
              "  <svg xmlns=\"http://www.w3.org/2000/svg\" height=\"24px\"viewBox=\"0 0 24 24\"\n",
              "       width=\"24px\">\n",
              "    <path d=\"M0 0h24v24H0V0z\" fill=\"none\"/>\n",
              "    <path d=\"M18.56 5.44l.94 2.06.94-2.06 2.06-.94-2.06-.94-.94-2.06-.94 2.06-2.06.94zm-11 1L8.5 8.5l.94-2.06 2.06-.94-2.06-.94L8.5 2.5l-.94 2.06-2.06.94zm10 10l.94 2.06.94-2.06 2.06-.94-2.06-.94-.94-2.06-.94 2.06-2.06.94z\"/><path d=\"M17.41 7.96l-1.37-1.37c-.4-.4-.92-.59-1.43-.59-.52 0-1.04.2-1.43.59L10.3 9.45l-7.72 7.72c-.78.78-.78 2.05 0 2.83L4 21.41c.39.39.9.59 1.41.59.51 0 1.02-.2 1.41-.59l7.78-7.78 2.81-2.81c.8-.78.8-2.07 0-2.86zM5.41 20L4 18.59l7.72-7.72 1.47 1.35L5.41 20z\"/>\n",
              "  </svg>\n",
              "      </button>\n",
              "      \n",
              "  <style>\n",
              "    .colab-df-container {\n",
              "      display:flex;\n",
              "      flex-wrap:wrap;\n",
              "      gap: 12px;\n",
              "    }\n",
              "\n",
              "    .colab-df-convert {\n",
              "      background-color: #E8F0FE;\n",
              "      border: none;\n",
              "      border-radius: 50%;\n",
              "      cursor: pointer;\n",
              "      display: none;\n",
              "      fill: #1967D2;\n",
              "      height: 32px;\n",
              "      padding: 0 0 0 0;\n",
              "      width: 32px;\n",
              "    }\n",
              "\n",
              "    .colab-df-convert:hover {\n",
              "      background-color: #E2EBFA;\n",
              "      box-shadow: 0px 1px 2px rgba(60, 64, 67, 0.3), 0px 1px 3px 1px rgba(60, 64, 67, 0.15);\n",
              "      fill: #174EA6;\n",
              "    }\n",
              "\n",
              "    [theme=dark] .colab-df-convert {\n",
              "      background-color: #3B4455;\n",
              "      fill: #D2E3FC;\n",
              "    }\n",
              "\n",
              "    [theme=dark] .colab-df-convert:hover {\n",
              "      background-color: #434B5C;\n",
              "      box-shadow: 0px 1px 3px 1px rgba(0, 0, 0, 0.15);\n",
              "      filter: drop-shadow(0px 1px 2px rgba(0, 0, 0, 0.3));\n",
              "      fill: #FFFFFF;\n",
              "    }\n",
              "  </style>\n",
              "\n",
              "      <script>\n",
              "        const buttonEl =\n",
              "          document.querySelector('#df-b782cba2-1251-40db-af33-10e9a50f68ba button.colab-df-convert');\n",
              "        buttonEl.style.display =\n",
              "          google.colab.kernel.accessAllowed ? 'block' : 'none';\n",
              "\n",
              "        async function convertToInteractive(key) {\n",
              "          const element = document.querySelector('#df-b782cba2-1251-40db-af33-10e9a50f68ba');\n",
              "          const dataTable =\n",
              "            await google.colab.kernel.invokeFunction('convertToInteractive',\n",
              "                                                     [key], {});\n",
              "          if (!dataTable) return;\n",
              "\n",
              "          const docLinkHtml = 'Like what you see? Visit the ' +\n",
              "            '<a target=\"_blank\" href=https://colab.research.google.com/notebooks/data_table.ipynb>data table notebook</a>'\n",
              "            + ' to learn more about interactive tables.';\n",
              "          element.innerHTML = '';\n",
              "          dataTable['output_type'] = 'display_data';\n",
              "          await google.colab.output.renderOutput(dataTable, element);\n",
              "          const docLink = document.createElement('div');\n",
              "          docLink.innerHTML = docLinkHtml;\n",
              "          element.appendChild(docLink);\n",
              "        }\n",
              "      </script>\n",
              "    </div>\n",
              "  </div>\n",
              "  "
            ]
          },
          "metadata": {},
          "execution_count": 62
        }
      ]
    },
    {
      "cell_type": "markdown",
      "metadata": {
        "id": "Dg7Lhqi_yDcy"
      },
      "source": [
        "## Conclusion"
      ]
    },
    {
      "cell_type": "markdown",
      "metadata": {
        "id": "YmVpTigjyHMY"
      },
      "source": [
        "---\n",
        "\n",
        "We can predict a score of the story from title. In the above model, we have predicted the score of those stories whose title contain word security. Now we can easily predict scores of security related stories. \n",
        "\n",
        "---"
      ]
    }
  ]
}