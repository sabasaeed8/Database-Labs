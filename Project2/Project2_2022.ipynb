{
  "cells": [
    {
      "cell_type": "markdown",
      "metadata": {
        "id": "z9Be9O4_dOuN"
      },
      "source": [
        "# Project 2: Exploring the GitHub Dataset with Colaboratory\n",
        "---\n"
      ]
    },
    {
      "cell_type": "markdown",
      "metadata": {
        "id": "WeAe0Pc_tYGc"
      },
      "source": [
        "In this project, you will explore one of BigQuery's public datasets on GitHub and learn to make visualizations in order to answer your questions. This project is due on **Monday, November 1st, 11:59PM**. It is worth 50 points, for 15% of your overall grade. After completing this project, make sure to follow the submission instructions in the handout to submit on Gradescope."
      ]
    },
    {
      "cell_type": "markdown",
      "metadata": {
        "id": "rmbV7yfpuxGU"
      },
      "source": [
        "\n",
        "### Notes (read carefully!):\n",
        "\n",
        "* Be sure you read the instructions on each cell and understand what it is doing before running it.\n",
        "* Don't forget that if you can always re-download the starter notebook from the course website if you need to.\n",
        "* You may create new cells to use for testing, debugging, exploring, etc., and this is in fact encouraged! Just make sure that the final answer for each question is **in its own cell** and **clearly indicated**.\n",
        "* Colab will not warn you about how many bytes your SQL query will consume.  **Be sure to check on the BigQuery UI first before running queries here!**\n",
        "* See the assignment handout for submission instructions.\n",
        "* Have fun!"
      ]
    },
    {
      "cell_type": "markdown",
      "metadata": {
        "id": "5c-7QXQre4Gt"
      },
      "source": [
        "## Collaborators:\n",
        "Please list the names and SUNet IDs of your collaborators below:\n",
        "* *Name, SUNet ID*"
      ]
    },
    {
      "cell_type": "markdown",
      "metadata": {
        "id": "0NwEmglfTzJQ"
      },
      "source": [
        "# Overview\n",
        "\n",
        "BigQuery has a massive dataset of GitHub files and statistics, including information about repositories, commits, and file contents.  In this project, we will be working with this dataset. Don't worry if you are not too familiar with Git and GitHub -- we will explain everything you need to know to complete this part of the assignment."
      ]
    },
    {
      "cell_type": "markdown",
      "metadata": {
        "id": "O-PmE-LLT743"
      },
      "source": [
        "---\n",
        "## Notes\n",
        "\n",
        "**The GitHub dataset available on BigQuery is actually quite massive. *A single query on the \"contents\" table alone (it is 2.16TB!) can eat up your 1TB allowance for the month AND cut into about 10% of your GCloud credit for the class.***\n",
        "\n",
        "To make this part of the project more manageable, we have subset the original data.  We have preserved almost all information in the original tables, but we kept only the information on the top 500,000 most \"watched\" GitHub repos between January 2016 and October 2018.\n",
        "\n",
        "You can see the tables we will be working with [here](https://console.cloud.google.com/bigquery?project=cs145-fa21-326819&authuser=1&p=cs145-fa21-326819&d=project2&page=dataset). **Read through the schemas to get familiar with the data**.  Note that some of the tables are still quite large (the contents table is about 500GB), so you should exercise the usual caution when working with them.  Before running queries on this notebook, it's good practice to first set up query limits on your BigQuery account or see how many bytes will be billed on the web UI.\n",
        "\n",
        "---"
      ]
    },
    {
      "cell_type": "markdown",
      "metadata": {
        "id": "fZ0OmH5DxQLk"
      },
      "source": [
        "## *Make sure to use our subsetted dataset, not the original BigQuery dataset!*\n",
        "\n",
        "\n",
        "\n"
      ]
    },
    {
      "cell_type": "markdown",
      "metadata": {
        "id": "hIzhMNllUM0s"
      },
      "source": [
        "## A Super Quick Primer on Git\n",
        "\n",
        "If you are not very familiar with Git and GitHub, here are some high-level explanations that will give you enough context to get you through this part of the problem:\n",
        "\n",
        "*  *GitHub*: GitHub is a source-control service provider.  GitHub allows you to collaborate on and keep track of source code in a fairly efficient way.\n",
        "\n",
        "*  *commit*: A commit can be thought of as a change that is applied to some set of files. i.e., if some set of files is in some state A, you can make changes to A and *commit* your changes to the set of files so that it is now in state B.  A commit is identified by a *hash* of the information in your change (the author of the commit, who actually committed [i.e. applied] the changes to the set of files, the changes themselves, etc.)\n",
        "\n",
        "* *parent commit*: The commit that came before your current commit.\n",
        "\n",
        "*   *repo*:  A repo (short for repository) is GitHub's abstraction for a collection of files along with a history of commits on those files. If you have GitHub username \"foo\" and you make a repository called \"data-rocks\", your repo name will be \"foo/data-rocks\".  You can think of a repo's history in terms of its commits.  E.g., \"foo/data-rocks\" can have the set of \"states\" A->B->C->D, where each state change (A->B, B->C, C->D) was due to a commit.\n",
        "\n",
        "*   *branch*:  To keep track of different commit histories, GitHub repos can have branches.  The 'main' branch (i.e. commit history) of the repo is called the 'master' branch.  Say on \"foo/data-rocks\" we have the commit history A->B->C->D on the master branch.  If someone else comes along and decides to add a cool new feature to \"foo/data-rocks\", they can create a branch called \"cool-new-feature\" that branches away from the master branch. All the code from the main branch will be there, but new code added to \"cool-new-feature\" will not be on the main branch.\n",
        "\n",
        "*   *ref*: For the purpose of this assignment, you can think of the 'ref' field on the \"files\" table as referring to the branch in which a file lives in a repository at some point in time.\n",
        "\n",
        "\n",
        "\n",
        "For the purposes of this question, you don't need to know about the following things in detail:\n",
        "\n",
        "\n",
        "*   Commit trees\n",
        "*   The encoding attribute on the commits table\n",
        "\n",
        "If you want more clarifications about Git and GitHub in order to answer this question, be sure to post on Ed or come to Office Hours.  In many cases, a quick web search will also help answer your question."
      ]
    },
    {
      "cell_type": "markdown",
      "metadata": {
        "id": "CklOd-VXuEXa"
      },
      "source": [
        "# Section 1 | Understanding the Dataset (4 points)\n",
        "\n",
        "---\n",
        "\n",
        "Things to note:\n",
        "* A file ID changes based on a file's contents; it is not assigned at a file's creation.\n",
        "* Different repos can have files with the same paths.\n",
        "* It is possible to have separate files with identical contents.\n",
        "* A repo may have one file across multiple branches.\n",
        "\n"
      ]
    },
    {
      "cell_type": "markdown",
      "metadata": {
        "id": "Fbo706dCt2LT"
      },
      "source": [
        "## Question 1: Schema Comprehension (4 points)\n",
        "\n",
        "Each of the following parts is worth 1 point.\n"
      ]
    },
    {
      "cell_type": "markdown",
      "metadata": {
        "id": "b_moV3eFqT6n"
      },
      "source": [
        "\n",
        "### a)  What is the primary key of `github_repo_files`? (1 point)"
      ]
    },
    {
      "cell_type": "markdown",
      "metadata": {
        "id": "h3shEPuDqpW2"
      },
      "source": [
        "symlink_target\n"
      ]
    },
    {
      "cell_type": "markdown",
      "metadata": {
        "id": "tjvS2kD4qkVm"
      },
      "source": [
        "### b) What is the primary key in `github_repo_licenses`? What is the foreign key? (1 point)"
      ]
    },
    {
      "cell_type": "markdown",
      "metadata": {
        "id": "tK8xLUIfqqTt"
      },
      "source": [
        "\n",
        "\n",
        "\n",
        "Primary key:lrepo_name  \n",
        "Foreign key:lrepo_name\n",
        "\n"
      ]
    },
    {
      "cell_type": "markdown",
      "metadata": {
        "id": "aGShjNR0qmFS"
      },
      "source": [
        "\n",
        "### c) If we were given authors and we wanted to know what programming languages they used in the repos that they contributed to, which tables should we use? (1 point)"
      ]
    },
    {
      "cell_type": "markdown",
      "metadata": {
        "id": "4ooCHYxFqrSt"
      },
      "source": [
        "```\n",
        "github_repo_commits\n",
        "github_repo_languages\n",
        "```"
      ]
    },
    {
      "cell_type": "markdown",
      "metadata": {
        "id": "VOJeDWRvlLbF"
      },
      "source": [
        "\n",
        "### d) If we wanted to know whether using different licenses had an effect on a repo's watch count, which tables would we use? (1 point)"
      ]
    },
    {
      "cell_type": "markdown",
      "metadata": {
        "id": "piw_ql_YlNcm"
      },
      "source": [
        "```\n",
        "github_repos\n",
        "github_repo_licenses\n",
        "```\n",
        "\n"
      ]
    },
    {
      "cell_type": "markdown",
      "metadata": {
        "id": "s4mbNimDnSUV"
      },
      "source": [
        "# Section 2 | Query Performance (8 points)\n",
        "---\n"
      ]
    },
    {
      "cell_type": "markdown",
      "metadata": {
        "id": "Dk4F1YNFFPcY"
      },
      "source": [
        "In this section, we'll look at some inefficient queries and think about how we can make them more efficient. For this section, we'll consider efficiency in terms of how many bytes are processed."
      ]
    },
    {
      "cell_type": "markdown",
      "metadata": {
        "id": "aJhpybZqtQQM"
      },
      "source": [
        "## Question 2: Optimizing Queries (8 points)\n"
      ]
    },
    {
      "cell_type": "markdown",
      "metadata": {
        "id": "F6mhkyVyQK4p"
      },
      "source": [
        "For the next three subquestions, consider the following query:\n",
        "\n",
        "```\n",
        "SELECT DISTINCT author.name\n",
        "FROM `cs145-fa21-326819.project2.github_repo_commits` commits_1\n",
        "WHERE (SELECT COUNT(*) \n",
        "       FROM `cs145-fa21-326819.project2.github_repo_commits` commits_2\n",
        "       WHERE commits_1.author.name = commits_2.author.name) > 20\n",
        "\n",
        "```\n",
        "\n",
        "**NOTE:** We do **NOT** recommend running this unoptimized query in BigQuery, as it will run for a very long time (over 15 minutes if not longer). However, feel free to run an optimized version of this query after finishing part (c), which takes about 5 seconds to run."
      ]
    },
    {
      "cell_type": "markdown",
      "metadata": {
        "id": "q7IiFOnSDQ7W"
      },
      "source": [
        "### a) In one to two sentences, explain what this query does. (1 point)"
      ]
    },
    {
      "cell_type": "markdown",
      "metadata": {
        "id": "4xeyufd3DY92"
      },
      "source": [
        "It gives the names of authors who commits more than 20 times."
      ]
    },
    {
      "cell_type": "markdown",
      "metadata": {
        "id": "TTQgKvdNCoiJ"
      },
      "source": [
        "###b) Briefly explain why this query is inefficient (in terms of bytes that need to be processed) and how it can be improved to be more efficient. (1 point)"
      ]
    },
    {
      "cell_type": "markdown",
      "metadata": {
        "id": "0OlYGZpZPkBl"
      },
      "source": [
        "```\n",
        "It selects one author name and match it with all other author \n",
        "names and checks if their count is greater than 20. \n",
        "This is inefficient because it checks the whole column again \n",
        "for every author name.\n",
        "```\n",
        ":"
      ]
    },
    {
      "cell_type": "markdown",
      "metadata": {
        "id": "PJ8cXikaCu2M"
      },
      "source": [
        "###c) Following from part (b), write a more efficient version of the query. (2 points)"
      ]
    },
    {
      "cell_type": "markdown",
      "metadata": {
        "id": "Rq6Z6ZmWCyw2"
      },
      "source": [
        "```\n",
        "SELECT\n",
        "  DISTINCT author.name\n",
        "FROM\n",
        "  `cs145-fa21-326819.project2.github_repo_commits` \n",
        "GROUP BY\n",
        "  author.name\n",
        "HAVING\n",
        "  COUNT(author.name) >20\n",
        "```\n"
      ]
    },
    {
      "cell_type": "markdown",
      "metadata": {
        "id": "VdkynONhk934"
      },
      "source": [
        "For the next three subquestions, consider the following query:\n",
        "\n",
        "```\n",
        "SELECT id\n",
        "FROM (\n",
        "  SELECT files.id, files.mode, contents.size\n",
        "  FROM\n",
        "    `cs145-fa21-326819.project2.github_repo_files` files,\n",
        "    `cs145-fa21-326819.project2.github_repo_readme_contents` contents\n",
        "  WHERE files.id = contents.id\n",
        "  )\n",
        "WHERE mode = 33188 AND size > 1000  \n",
        "LIMIT 10\n",
        "```\n"
      ]
    },
    {
      "cell_type": "markdown",
      "metadata": {
        "id": "TzTGgVvClMed"
      },
      "source": [
        "###d) Briefly explain why this query is inefficient (in terms of bytes that need to be processed) without the query optimization and how it can be improved to be more efficient. (1 point)"
      ]
    },
    {
      "cell_type": "markdown",
      "metadata": {
        "id": "oGf3ts5Llr7G"
      },
      "source": [
        "--- \n",
        "In this query, subqueries are used. Subquery runs the internal queries first and then from the result set again filter out the actual results. It takes more time.We can improve this by using join. Join runs the and produces the result in one go.\n",
        "\n",
        "---"
      ]
    },
    {
      "cell_type": "markdown",
      "metadata": {
        "id": "nb4qqxYflssS"
      },
      "source": [
        "###e) Following from part (d), write a more efficient version of the query. (2 points)\n",
        "\n",
        "Hint: Think about the number of bytes processed by the unoptimized query. Can any operator be moved around to reduce this number?"
      ]
    },
    {
      "cell_type": "markdown",
      "metadata": {
        "id": "b0EMfC11l2PP"
      },
      "source": [
        "---\n",
        "```\n",
        "SELECT files.id \n",
        "FROM `cs145-fa21-326819.project2.github_repo_readme_contents` contents\n",
        "JOIN `cs145-fa21-326819.project2.github_repo_files` files\n",
        "ON files.id = contents.id\n",
        "WHERE files.mode = 33188 AND contents.size > 1000  \n",
        "LIMIT 10\n",
        "```\n",
        "---"
      ]
    },
    {
      "cell_type": "markdown",
      "metadata": {
        "id": "efEHZpQhmC2D"
      },
      "source": [
        "###f) Run both the original query and your optimized query on BigQuery and pay attention to the number of bytes processed. How do they compare, and is it what you expect? Explain why this is happening in a few sentences. (1 point)\n",
        "\n",
        "Hint: Look at the query plan under \"Execution details\" in the bottom panel of BigQuery. It may be especially helpful to look at stage \"S00: Input\"."
      ]
    },
    {
      "cell_type": "markdown",
      "metadata": {
        "id": "ylqqfn5wmwEV"
      },
      "source": [
        "---\n",
        "Number of bytes processed are same in both cases. While subquery takes more slot and elapsed time as compared to join. Also read time of subquery is much higher than join.\n",
        "\n",
        "---"
      ]
    },
    {
      "cell_type": "markdown",
      "metadata": {
        "id": "_KKXXyR2Inwa"
      },
      "source": [
        "To learn more about writing efficient SQL queries and how BigQuery optimizes queries, check out [Optimizing query computation](https://cloud.google.com/bigquery/docs/best-practices-performance-compute) and [Query plan and timeline](https://cloud.google.com/bigquery/query-plan-explanation)."
      ]
    },
    {
      "cell_type": "markdown",
      "metadata": {
        "id": "bqyYP5sps6Jz"
      },
      "source": [
        "# Section 3: Visualizing the Dataset (38 points)\n",
        "---\n"
      ]
    },
    {
      "cell_type": "markdown",
      "metadata": {
        "id": "KxKKcG8IJDef"
      },
      "source": [
        "In this section, you'll be answering questions about the dataset, similar to the first project. The difference is that instead of answering with a query, you will be answering with a visualization. Part of this assignment is for you to think about which data (specifically, which indicators) you should be using in order to answer a particular question, and about what type of chart / picture / visualization you should use to clearly convey your answer."
      ]
    },
    {
      "cell_type": "markdown",
      "metadata": {
        "id": "7bpWi-uh3QJj"
      },
      "source": [
        "## General Instructions\n",
        "* For each question, you will have at least two cells - a SQL cell where you run your query (and save the output to a data frame), and a visualization cell, where you construct your chart. For this project, make sure that **all data manipulation is to be done in SQL**. Please do not modify your data output using `pandas` or some other data library. Python should only be used for data visualization.\n",
        "* Please make all charts clear and readable - this includes adding axes labels, clear tick marks, clear point markers / lines / color schemes (i.e. don't repeat colors across categories), legends, and so on. "
      ]
    },
    {
      "cell_type": "markdown",
      "metadata": {
        "id": "pOutY8Csskgi"
      },
      "source": [
        "## Setting up BigQuery and Dependencies\n",
        "\n",
        "Run the cell below (shift + enter) to authenticate your project. \n",
        "\n",
        "Note that you need to fill in the `project_id` variable with the Google Cloud project id you are using for this course.  You can see your project ID by going to https://console.cloud.google.com/cloud-resource-manager"
      ]
    },
    {
      "cell_type": "code",
      "execution_count": 2,
      "metadata": {
        "id": "maf6TI9zWqE1"
      },
      "outputs": [],
      "source": [
        "# Run this cell to authenticate yourself to BigQuery.\n",
        "from google.colab import auth\n",
        "auth.authenticate_user() \n",
        "project_id = \"project2-db-342508\""
      ]
    },
    {
      "cell_type": "markdown",
      "metadata": {
        "id": "kZeLJoIQFkoS"
      },
      "source": [
        "## Visualization\n",
        "\n",
        "For this project, we will be officially supporting the use of matplotlib (https://matplotlib.org/3.0.0/tutorials/index.html), but feel free to use another graphing library if you are more comfortable with it (eg. plotly, seaborn). \n",
        "\n",
        "If you are not familiar with matplotlib, please reference [this](https://matplotlib.org/3.0.0/tutorials/introductory/pyplot.html#sphx-glr-tutorials-introductory-pyplot-py) tutorial to get started."
      ]
    },
    {
      "cell_type": "code",
      "execution_count": 3,
      "metadata": {
        "id": "PZGBXeMmfC-o"
      },
      "outputs": [],
      "source": [
        "# Add imports for any visualization libraries you may need\n",
        "import matplotlib.pyplot as plt\n",
        "\n",
        "%matplotlib inline"
      ]
    },
    {
      "cell_type": "code",
      "execution_count": null,
      "metadata": {
        "id": "idNmfoHaJppz"
      },
      "outputs": [],
      "source": [
        ""
      ]
    },
    {
      "cell_type": "markdown",
      "metadata": {
        "id": "_CgmWrbisltV"
      },
      "source": [
        "### How to Use BigQuery and visualize in Colab\n",
        "\n",
        "Jupyter notebooks (what Colab notebooks are based on) have a concept called \"magics\".\n",
        "If you write the following line at the top of a `Code` cell:\n",
        "\n",
        "\n",
        "```\n",
        "%%bigquery --project $project_id variable # this is the key line\n",
        "SELECT ....\n",
        "FROM ...\n",
        "```\n",
        "\n",
        "That \"%%\" converts the cell into a SQL cell. The resulting table that is generated is saved into `variable`. \n",
        "\n",
        "Then in a second cell, use the library of your choice to plot the variable. Here is an example using matplotlib:\n",
        "\n",
        "```python\n",
        "plt.figure()\n",
        "plt.scatter(variable[\"x\"], variable[\"y\"])\n",
        "plt.title(\"Plot Title\")\n",
        "plt.xlabel(\"X-axis label\")\n",
        "plt.ylabel(\"Y-axis label\")\n",
        "```"
      ]
    },
    {
      "cell_type": "markdown",
      "metadata": {
        "id": "eu2tawH_WFco"
      },
      "source": [
        "## Question 3: A First Look at Repo Features (6 points)\n"
      ]
    },
    {
      "cell_type": "markdown",
      "metadata": {
        "id": "T1APZTtGwVE4"
      },
      "source": [
        "Let's get our feet wet with this data by creating the following plots:\n",
        "\n",
        "1.   Language distribution across repos\n",
        "2.   File size distribution\n",
        "3.   The distribution of the length of commit messages\n",
        "\n",
        "\n",
        "Note that you will not receive full credit if your charts are  poorly made (i.e. very unclear or unreadable).\n",
        "\n",
        "\n",
        "### Hints\n",
        "* Some of these plots will need at least one of their axes to be log-scaled in order to be readable\n",
        "* For more readable plots, you can use [pandas.DataFrame.sample](https://pandas.pydata.org/pandas-docs/stable/generated/pandas.DataFrame.sample.html).  A sample size between 1,000 and 10,000 should give you more readable plots.\n",
        "* Recommended Graph Types: bar chart or scatter plot.\n",
        "\n",
        "##  Reminders\n",
        "* Be careful with your queries!  Don't run `SELECT *` blindly on a table in this Colab notebook since you will not get a warning of how much data the query will consume.  Always how much data a query will consume on the BigQuery UI first -- you are also better off setting a query limit as we described earlier. \n",
        "* Don't forget to use the subsetted GitHub tables we provide [here](https://console.cloud.google.com/bigquery?project=cs145-fa21-326819&authuser=1&p=cs145-fa21-326819&d=project2&page=dataset), not the original ones on BigQuery. \n",
        "\n",
        "\n"
      ]
    },
    {
      "cell_type": "markdown",
      "metadata": {
        "id": "LszEzT1moyxJ"
      },
      "source": [
        "### a) Language distribution (2 points)\n",
        "#### (x-axis: programming language, y-axis: # repos containing at least one file in that language)\n",
        "\n",
        "To keep the chart readable, only keep the top 20 languages.\n",
        "\n",
        "**Hint:** https://cloud.google.com/bigquery/docs/reference/standard-sql/arrays (Lookup keyword UNNEST)\n"
      ]
    },
    {
      "cell_type": "code",
      "execution_count": 6,
      "metadata": {
        "id": "Msk_6JECyCmz"
      },
      "outputs": [],
      "source": [
        "%%bigquery --project $project_id q3a\n",
        "SELECT\n",
        "  language_unnested.name AS name,\n",
        "  COUNT(language_unnested.name) AS count\n",
        "FROM\n",
        "  `cs145-fa21-326819.project2.github_repo_languages`\n",
        "JOIN\n",
        "  UNNEST(LANGUAGE) AS language_unnested\n",
        "GROUP BY\n",
        "  language_unnested.name\n",
        "ORDER BY\n",
        "  count DESC\n",
        "LIMIT\n",
        "  20"
      ]
    },
    {
      "cell_type": "code",
      "execution_count": 7,
      "metadata": {
        "colab": {
          "base_uri": "https://localhost:8080/",
          "height": 270
        },
        "id": "KbSrYroWXe3v",
        "outputId": "871b9baf-6e86-4dbc-de95-c3a39f30e5a6"
      },
      "outputs": [
        {
          "output_type": "execute_result",
          "data": {
            "text/plain": [
              "Text(0, 0.5, 'Count')"
            ]
          },
          "metadata": {},
          "execution_count": 7
        },
        {
          "output_type": "display_data",
          "data": {
            "image/png": "[encoded data removed]",
            "text/plain": [
              "<Figure size 1296x252 with 1 Axes>"
            ]
          },
          "metadata": {
            "needs_background": "light"
          }
        }
      ],
      "source": [
        "# YOUR PLOT CODE HERE\n",
        "plt.figure()\n",
        "plt.rcParams[\"figure.figsize\"] = [18, 3.50]\n",
        "plt.rcParams[\"figure.autolayout\"] = True\n",
        "\n",
        "plt.bar(q3a[\"name\"], q3a[\"count\"])\n",
        "plt.title(\"Language Distribution\")\n",
        "plt.xlabel(\"Programming Languages\")\n",
        "plt.ylabel(\"Count\")"
      ]
    },
    {
      "cell_type": "markdown",
      "metadata": {
        "id": "R5qilhmWo8FF"
      },
      "source": [
        "### b) File size distribution (2 points)\n",
        "#### (x-axis: file size, y-axis: # files of that size) "
      ]
    },
    {
      "cell_type": "code",
      "execution_count": null,
      "metadata": {
        "id": "UWjD_HG3yRnu"
      },
      "outputs": [],
      "source": [
        "%%bigquery --project $project_id q3b\n",
        "\n",
        "SELECT\n",
        "  size,\n",
        "  COUNT(size) AS NumOfFiles\n",
        "FROM\n",
        "  `cs145-fa21-326819.project2.github_repo_contents`\n",
        "GROUP BY\n",
        "  size\n",
        "ORDER BY\n",
        "  size ASC\n",
        "LIMIT \n",
        "  50\n"
      ]
    },
    {
      "cell_type": "code",
      "execution_count": null,
      "metadata": {
        "colab": {
          "base_uri": "https://localhost:8080/",
          "height": 270
        },
        "id": "1c0F10H-XSMT",
        "outputId": "1d82e6df-1f5a-437c-b921-a3ff337dc75c"
      },
      "outputs": [
        {
          "data": {
            "text/plain": [
              "Text(0, 0.5, 'Num Of Files')"
            ]
          },
          "execution_count": 81,
          "metadata": {},
          "output_type": "execute_result"
        },
        {
          "data": {
            "image/png": "[encoded data removed]",
            "text/plain": [
              "<Figure size 1296x252 with 1 Axes>"
            ]
          },
          "metadata": {},
          "output_type": "display_data"
        }
      ],
      "source": [
        "# YOUR PLOT CODE HERE\n",
        "plt.figure()\n",
        "plt.bar(q3b[\"size\"], q3b[\"NumOfFiles\"])\n",
        "plt.title(\"File size Distribution\")\n",
        "plt.xlabel(\"File Size\")\n",
        "plt.ylabel(\"Num Of Files\")"
      ]
    },
    {
      "cell_type": "markdown",
      "metadata": {
        "id": "JQwPjnIXppBw"
      },
      "source": [
        "### c) The distribution of the length of commit messages (2 points)\n",
        "#### (x-axis: length of the commit message, y-axis: # commits with that length)\n",
        "\n",
        "**Note**: The query for this plot may use ~30GB of data."
      ]
    },
    {
      "cell_type": "code",
      "execution_count": null,
      "metadata": {
        "id": "Ep2sou-Jy6Z-"
      },
      "outputs": [],
      "source": [
        "%%bigquery --project $project_id q3c\n",
        "\n",
        "SELECT msg_length As MsgLength, COUNT(msg_length) as NumOfCommits\n",
        "FROM (SELECT commit, AVG(LENGTH(message)) as msg_length\n",
        "      FROM `cs145-fa21-326819.project2.github_repo_commits`\n",
        "      GROUP BY commit)\n",
        "GROUP BY msg_length\n",
        "ORDER BY NumOfCommits DESC\n",
        "LIMIT 50\n"
      ]
    },
    {
      "cell_type": "code",
      "execution_count": null,
      "metadata": {
        "colab": {
          "base_uri": "https://localhost:8080/",
          "height": 270
        },
        "id": "3PAu4JSvy6Wf",
        "outputId": "14be81c8-9549-4cfa-b324-22a55b310c47"
      },
      "outputs": [
        {
          "data": {
            "text/plain": [
              "Text(0, 0.5, 'Num Of Commits')"
            ]
          },
          "execution_count": 73,
          "metadata": {},
          "output_type": "execute_result"
        },
        {
          "data": {
            "image/png": "[encoded data removed]",
            "text/plain": [
              "<Figure size 1296x252 with 1 Axes>"
            ]
          },
          "metadata": {},
          "output_type": "display_data"
        }
      ],
      "source": [
        "# YOUR PLOT CODE HERE\n",
        "plt.figure()\n",
        "plt.bar(q3c[\"MsgLength\"], q3c[\"NumOfCommits\"])\n",
        "plt.title(\"The distribution of the length of commit messages\")\n",
        "plt.xlabel(\"Length of commit message\")\n",
        "plt.ylabel(\"Num Of Commits\")"
      ]
    },
    {
      "cell_type": "markdown",
      "metadata": {
        "id": "Rl8vAUcs6UDI"
      },
      "source": [
        ""
      ]
    },
    {
      "cell_type": "markdown",
      "metadata": {
        "id": "oHNutgYnLdBb"
      },
      "source": [
        "## What Makes a Good Repo?\n",
        "Given that we have some interesting data at our disposal, let's try to answer the question: what makes a good GitHub repo? For our purposes, a \"good\" repo is simply a repo with a high watch count; this refers to how many people are following the repo for updates.\n",
        "\n",
        "To begin, let's see if any of the features we've already explored give us any good answers."
      ]
    },
    {
      "cell_type": "markdown",
      "metadata": {
        "id": "IqNIAFW6RycD"
      },
      "source": [
        "## Question 4: Using What We've Worked With (17 points)\n",
        "\n",
        "Create plots for the following features in a repo and how they relate to that repo's watch count:\n",
        "\n",
        "1.  Languages used\n",
        "2.  Average file size in a repo\n",
        "3.  Average message length of commits in a repo\n",
        "\n",
        "### Hints\n",
        "* Recommended Graph Types: bar chart or scatter plot.\n"
      ]
    },
    {
      "cell_type": "markdown",
      "metadata": {
        "id": "pnfzgndkrVh6"
      },
      "source": [
        "### a) Languages used (4 points)\n",
        "\n",
        "As in Q3a, please only keep the top 20 languages to keep the chart readable."
      ]
    },
    {
      "cell_type": "code",
      "execution_count": null,
      "metadata": {
        "id": "rUKLW4KpzYnH"
      },
      "outputs": [],
      "source": [
        "%%bigquery --project $project_id q4a\n",
        "\n",
        "SELECT\n",
        "  language_unnested.name AS name,\n",
        "  AVG(watch_count) AS watch_count\n",
        "FROM\n",
        "  `cs145-fa21-326819.project2.github_repo_languages` AS lan\n",
        "JOIN\n",
        "  UNNEST(LANGUAGE) AS language_unnested\n",
        "JOIN\n",
        "  `cs145-fa21-326819.project2.github_repos` repositories\n",
        "ON\n",
        "  repositories. lrepo_name = lan.lrepo_name\n",
        "GROUP BY\n",
        "  language_unnested.name\n",
        "ORDER BY \n",
        "  watch_count DESC\n",
        "LIMIT\n",
        "  20"
      ]
    },
    {
      "cell_type": "code",
      "execution_count": null,
      "metadata": {
        "colab": {
          "base_uri": "https://localhost:8080/",
          "height": 270
        },
        "id": "FbCp6M7izYjo",
        "outputId": "e1024290-b040-4394-d9e4-11e0002c71d6"
      },
      "outputs": [
        {
          "data": {
            "text/plain": [
              "Text(0, 0.5, 'Watch Count')"
            ]
          },
          "execution_count": 83,
          "metadata": {},
          "output_type": "execute_result"
        },
        {
          "data": {
            "image/png": "[encoded data removed]",
            "text/plain": [
              "<Figure size 1296x252 with 1 Axes>"
            ]
          },
          "metadata": {},
          "output_type": "display_data"
        }
      ],
      "source": [
        "# YOUR PLOT CODE HERE\n",
        "plt.figure()\n",
        "plt.bar(q4a[\"name\"], q4a[\"watch_count\"])\n",
        "plt.title(\"Languages used\")\n",
        "plt.xlabel(\"Programming Languages\")\n",
        "plt.ylabel(\"Watch Count\")"
      ]
    },
    {
      "cell_type": "markdown",
      "metadata": {
        "id": "FaLouZxVrZWy"
      },
      "source": [
        "### b) Average file size in a repo (4 points)\n",
        "**Note:** For this question, you may use the `github_repo_readme_contents` table instead of the full contents table.\n"
      ]
    },
    {
      "cell_type": "code",
      "execution_count": null,
      "metadata": {
        "id": "P4ysTQqXzgot"
      },
      "outputs": [],
      "source": [
        "%%bigquery --project $project_id q4b\n",
        "\n",
        "SELECT\n",
        "  size,\n",
        "  AVG(watch_count) AS avg_watch_count\n",
        "FROM (\n",
        "  SELECT\n",
        "    lrepo_name,\n",
        "    ROUND(AVG(size),0) AS size\n",
        "  FROM (\n",
        "    SELECT\n",
        "      DISTINCT lrepo_name,\n",
        "      id\n",
        "    FROM\n",
        "      `cs145-fa21-326819.project2.github_repo_files`) repo_files\n",
        "  JOIN\n",
        "    `cs145-fa21-326819.project2.github_repo_readme_contents` repo_readme\n",
        "  ON\n",
        "    repo_readme.id = repo_files.id\n",
        "  GROUP BY\n",
        "    lrepo_name) repo_size\n",
        "JOIN\n",
        "  `cs145-fa21-326819.project2.github_repos` repos\n",
        "ON\n",
        "  repos. lrepo_name = repo_size. lrepo_name\n",
        "GROUP BY\n",
        "  size\n",
        "ORDER BY\n",
        "  avg_watch_count \n",
        "LIMIT \n",
        "  20"
      ]
    },
    {
      "cell_type": "code",
      "execution_count": null,
      "metadata": {
        "colab": {
          "base_uri": "https://localhost:8080/",
          "height": 270
        },
        "id": "hTKSj3Xazgla",
        "outputId": "335b117d-dc56-463d-8025-9bcc2f1b987a"
      },
      "outputs": [
        {
          "data": {
            "text/plain": [
              "Text(0, 0.5, 'Avg Watch Count')"
            ]
          },
          "execution_count": 102,
          "metadata": {},
          "output_type": "execute_result"
        },
        {
          "data": {
            "image/png": "[encoded data removed]",
            "text/plain": [
              "<Figure size 1296x252 with 1 Axes>"
            ]
          },
          "metadata": {},
          "output_type": "display_data"
        }
      ],
      "source": [
        "# YOUR PLOT CODE HERE\n",
        "plt.figure()\n",
        "plt.scatter(q4b[\"size\"], q4b[\"avg_watch_count\"])\n",
        "plt.title(\"Average file size in a repo \")\n",
        "plt.xlabel(\"File Size\")\n",
        "plt.ylabel(\"Avg Watch Count\")"
      ]
    },
    {
      "cell_type": "markdown",
      "metadata": {
        "id": "p3TREtxmrk0e"
      },
      "source": [
        "### c) Average message length of commits on a repo. (6 points)\n",
        "\n",
        "First, make a plot of the average commit message length of repositories against the number of repositories with that average commit message length. \n",
        "\n",
        "Then, make a plot of how average commit message length of a repository correlates to its watch count. Round the average commit message length to the nearest integer.\n"
      ]
    },
    {
      "cell_type": "code",
      "execution_count": null,
      "metadata": {
        "id": "sSVraksz0Py8"
      },
      "outputs": [],
      "source": [
        "%%bigquery --project $project_id q4c_avg_commit_length_count\n",
        "\n",
        "SELECT\n",
        "  LENGTH(message) AS message_length,\n",
        "  COUNT(message) AS NumOfRepo\n",
        "  FROM\n",
        "    `cs145-fa21-326819.project2.github_repo_commits`\n",
        "GROUP BY\n",
        "  message_length\n",
        "ORDER BY\n",
        "  NumOfRepo DESC\n",
        "LIMIT\n",
        "  20"
      ]
    },
    {
      "cell_type": "code",
      "execution_count": null,
      "metadata": {
        "colab": {
          "base_uri": "https://localhost:8080/",
          "height": 270
        },
        "id": "WxrgVP870Pu9",
        "outputId": "efd1f24f-2402-4de4-ace0-ac0e61f1297a"
      },
      "outputs": [
        {
          "data": {
            "text/plain": [
              "Text(0, 0.5, 'NumOfRepo')"
            ]
          },
          "execution_count": 106,
          "metadata": {},
          "output_type": "execute_result"
        },
        {
          "data": {
            "image/png": "[encoded data removed]",
            "text/plain": [
              "<Figure size 1296x252 with 1 Axes>"
            ]
          },
          "metadata": {},
          "output_type": "display_data"
        }
      ],
      "source": [
        "# YOUR PLOT CODE HERE\n",
        "plt.figure()\n",
        "plt.bar(q4c_avg_commit_length_count[\"message_length\"], q4c_avg_commit_length_count[\"NumOfRepo\"])\n",
        "plt.title(\"Average message length of commits on a repo\")\n",
        "plt.xlabel(\"Message_length\")\n",
        "plt.ylabel(\"NumOfRepo\")"
      ]
    },
    {
      "cell_type": "code",
      "execution_count": null,
      "metadata": {
        "id": "PlxPe7BR0gjG"
      },
      "outputs": [],
      "source": [
        "%%bigquery --project $project_id q4c_msg_length_watch_count\n",
        "\n",
        "SELECT\n",
        "  rounded_msg_length,\n",
        "  ROUND(AVG(watch_count),2) AS avg_watch_count\n",
        "FROM (\n",
        "  SELECT\n",
        "    ROUND(avg_msg_length) AS rounded_msg_length,\n",
        "    watch_count\n",
        "  FROM (\n",
        "    SELECT\n",
        "      lrepo_name,\n",
        "      AVG(msg_length) AS avg_msg_length\n",
        "    FROM (\n",
        "      SELECT\n",
        "        lrepo_name,\n",
        "        LENGTH(message) AS msg_length\n",
        "      FROM\n",
        "        `cs145-fa21-326819.project2.github_repo_commits`)\n",
        "    GROUP BY\n",
        "      lrepo_name) repo_avg_commit_message_length\n",
        "  JOIN\n",
        "    `cs145-fa21-326819.project2.github_repos` repos\n",
        "  ON\n",
        "    repos. lrepo_name = repo_avg_commit_message_length. lrepo_name)\n",
        "GROUP BY\n",
        "  rounded_msg_length\n",
        "LIMIT\n",
        "  20"
      ]
    },
    {
      "cell_type": "code",
      "execution_count": null,
      "metadata": {
        "colab": {
          "base_uri": "https://localhost:8080/",
          "height": 270
        },
        "id": "U8S1-VGYXTUP",
        "outputId": "1f20796e-4db2-4966-dfed-5522ca7743ab"
      },
      "outputs": [
        {
          "data": {
            "text/plain": [
              "Text(0, 0.5, 'Avg Watch Count')"
            ]
          },
          "execution_count": 11,
          "metadata": {},
          "output_type": "execute_result"
        },
        {
          "data": {
            "image/png": "[encoded data removed]",
            "text/plain": [
              "<Figure size 1296x252 with 1 Axes>"
            ]
          },
          "metadata": {},
          "output_type": "display_data"
        }
      ],
      "source": [
        "# YOUR PLOT CODE HERE\n",
        "plt.figure()\n",
        "plt.bar(q4c_msg_length_watch_count[\"rounded_msg_length\"], q4c_msg_length_watch_count[\"avg_watch_count\"])\n",
        "plt.title(\"Average message length of commits on a repo\")\n",
        "plt.xlabel(\"average commit message length\")\n",
        "plt.ylabel(\"Avg Watch Count\")"
      ]
    },
    {
      "cell_type": "markdown",
      "metadata": {
        "id": "GMPN_TRPv3io"
      },
      "source": [
        "### d) Which, if any, of the features we inspected above have a high correlation to a repo having a high watch count? Does the answer make sense, or does it seem counterintuitive? Explain your answer in a small paragraph, no more than 200 words.  Be sure to cite the charts you generated. (3 points)"
      ]
    },
    {
      "cell_type": "markdown",
      "metadata": {
        "id": "z0LKgPeawAQL"
      },
      "source": [
        "---\n",
        "Almost all repositories uses Java Script. (3a)\n",
        "Watch count of a Repo in a PureBasic Programming language is higher. (4a)\n",
        "Popular repos have higher number of commits. (4c)\n",
        "Popular Repos have larger Read Me File Size. (4b)\n",
        "\n",
        "---"
      ]
    },
    {
      "cell_type": "markdown",
      "metadata": {
        "id": "wsfv9TJj86LX"
      },
      "source": [
        "## What Do Others Have to Say?"
      ]
    },
    {
      "cell_type": "markdown",
      "metadata": {
        "id": "wGJevIAJhkIY"
      },
      "source": [
        "At this point we have learned a couple of things about how certain features may or may not impact the popularity of a GitHub repo.  However, we really only looked at features of GitHub repos that we had initially explored when we were getting a feel for the dataset!  There has got to be more things we can inspect than that.\n",
        "\n",
        "If you do a web search for \"how to make my git repo popular,\" you will find that more than a couple of people suggest investing time in your `README` file.  The `README` usually gives an overview to a GitHub project and may include other information about the codebase such as whether its most recent build passed or how to begin contributing to that repo.  [Here](https://github.com/vuejs/vue/blob/dev/README.md) is an example `README` file for the popular web development framework Vue.js.\n"
      ]
    },
    {
      "cell_type": "markdown",
      "metadata": {
        "id": "6QRXkPTFWzUT"
      },
      "source": [
        "## IMPORTANT: Note about Contents Table\n",
        "\n",
        "Note that the original `github_repo_contents` table is about half a TB!  In order to save you the pain of using up 500GB of your credits to subset this table into a workable size for this problem, we have done it for you. \n",
        "\n",
        "## ***For the rest of this question, be sure that you use the `github_repo_readme_contents` table ***"
      ]
    },
    {
      "cell_type": "markdown",
      "metadata": {
        "id": "AKhYoI7zWtDg"
      },
      "source": [
        "## Question 5: Analyzing README Features (15 points)\n",
        "\n",
        "Analyze the following features of a repo's `README` file and how they relate to the watch count of a repository, generating an informative plot for each feature:\n",
        "\n",
        "1.   Having or not having a `README` file\n",
        "2.   The length of the `README` file\n",
        "\n",
        "Consider a `README` file to be any file with the path beginning with \"README\", not case-sensitive.\n",
        "\n",
        "You may ignore README files with length 0."
      ]
    },
    {
      "cell_type": "markdown",
      "metadata": {
        "id": "etSy6h-ws4J0"
      },
      "source": [
        "### a) Having or not having a `README` file (6 points)\n",
        "\n",
        "**Note**: Exclude all empty repos.\n"
      ]
    },
    {
      "cell_type": "code",
      "execution_count": 22,
      "metadata": {
        "id": "dFxr2_Zg0tTQ"
      },
      "outputs": [],
      "source": [
        "%%bigquery --project $project_id q5a\n",
        "\n",
        "# YOUR QUERY HERE\n",
        "SELECT 'Having readme' as contains_readme, AVG(watch_count) as avg_watch_count\n",
        "FROM `cs145-fa21-326819.project2.github_repos` repo\n",
        "WHERE lrepo_name IN (SELECT DISTINCT lrepo_name\n",
        "                     FROM `cs145-fa21-326819.project2.github_repo_readme_contents` readme_contents \n",
        "                     JOIN `cs145-fa21-326819.project2.github_repo_files` repo_files\n",
        "                     ON repo_files.id = readme_contents.id)\n",
        "\n",
        "UNION ALL                          \n",
        "      \n",
        "SELECT 'noreadme' as contains_readme, AVG(watch_count) as avg_watch_count\n",
        "FROM `cs145-fa21-326819.project2.github_repos` repo\n",
        "WHERE lrepo_name NOT IN (SELECT DISTINCT lrepo_name\n",
        "                         FROM `cs145-fa21-326819.project2.github_repo_readme_contents` readme_contents \n",
        "                         JOIN `cs145-fa21-326819.project2.github_repo_files` repo_files\n",
        "                         ON repo_files.id = readme_contents.id)"
      ]
    },
    {
      "cell_type": "code",
      "execution_count": 23,
      "metadata": {
        "colab": {
          "base_uri": "https://localhost:8080/",
          "height": 270
        },
        "id": "__b66Da60tQE",
        "outputId": "11c96602-34a3-4890-ea2a-ec38418282c7"
      },
      "outputs": [
        {
          "output_type": "execute_result",
          "data": {
            "text/plain": [
              "Text(0, 0.5, 'Avg Watch Count')"
            ]
          },
          "metadata": {},
          "execution_count": 23
        },
        {
          "output_type": "display_data",
          "data": {
            "image/png": "[encoded data removed]",
            "text/plain": [
              "<Figure size 1296x252 with 1 Axes>"
            ]
          },
          "metadata": {
            "needs_background": "light"
          }
        }
      ],
      "source": [
        "# YOUR PLOT CODE HERE\n",
        "plt.figure()\n",
        "plt.rcParams[\"figure.figsize\"] = [5, 1.50]\n",
        "plt.rcParams[\"figure.autolayout\"] = True\n",
        "plt.bar(q5a[\"contains_readme\"], q5a[\"avg_watch_count\"])\n",
        "plt.title(\"Having or not having a README file\")\n",
        "plt.xlabel(\"Contains README\")\n",
        "plt.ylabel(\"Avg Watch Count\")"
      ]
    },
    {
      "cell_type": "markdown",
      "metadata": {
        "id": "RMq0_HaYs9Fu"
      },
      "source": [
        "### b) The length of the `README` file (6 points)\n",
        "\n",
        "**Note**: If a project has multiple `README` files, you can just take the average length of those files. Ignore repos without `README` files."
      ]
    },
    {
      "cell_type": "code",
      "execution_count": 19,
      "metadata": {
        "id": "B7b-ouvo00Id"
      },
      "outputs": [],
      "source": [
        "%%bigquery --project $project_id q5b\n",
        "\n",
        "SELECT\n",
        "  Readme_length,\n",
        "  ROUND(AVG(watch_count),2) AS avg_watch_count\n",
        "FROM (\n",
        "  SELECT\n",
        "    ROUND(avg_msg_length) AS Readme_length,\n",
        "    watch_count\n",
        "  FROM (\n",
        "    SELECT\n",
        "      lrepo_name,\n",
        "      AVG(msg_length) AS avg_msg_length\n",
        "    FROM (\n",
        "      SELECT\n",
        "        lrepo_name,\n",
        "        LENGTH(message) AS msg_length\n",
        "      FROM\n",
        "        `cs145-fa21-326819.project2.github_repo_commits`)\n",
        "    GROUP BY\n",
        "      lrepo_name) repo_avg_commit_message_length\n",
        "  JOIN\n",
        "    `cs145-fa21-326819.project2.github_repos` repos\n",
        "  ON\n",
        "    repos. lrepo_name = repo_avg_commit_message_length. lrepo_name)\n",
        "GROUP BY\n",
        "  Readme_length\n",
        "LIMIT\n",
        "  20\n"
      ]
    },
    {
      "cell_type": "code",
      "execution_count": 21,
      "metadata": {
        "colab": {
          "base_uri": "https://localhost:8080/",
          "height": 270
        },
        "id": "BTox2CoS00Fc",
        "outputId": "d1494788-290a-4837-b709-cdcbd4e4fb54"
      },
      "outputs": [
        {
          "output_type": "execute_result",
          "data": {
            "text/plain": [
              "Text(0, 0.5, 'Avg Watch Count')"
            ]
          },
          "metadata": {},
          "execution_count": 21
        },
        {
          "output_type": "display_data",
          "data": {
            "image/png": "[encoded data removed]",
            "text/plain": [
              "<Figure size 1296x252 with 1 Axes>"
            ]
          },
          "metadata": {
            "needs_background": "light"
          }
        }
      ],
      "source": [
        "# YOUR PLOT CODE HERE\n",
        "plt.figure()\n",
        "plt.bar(q5b[\"Readme_length\"], q5b[\"avg_watch_count\"])\n",
        "plt.title(\"Average message length of commits on a repo\")\n",
        "plt.xlabel(\"average commit message length\")\n",
        "plt.ylabel(\"Avg Watch Count\")"
      ]
    },
    {
      "cell_type": "code",
      "source": [
        ""
      ],
      "metadata": {
        "id": "HgkgsyDKCSdf"
      },
      "execution_count": null,
      "outputs": []
    },
    {
      "cell_type": "markdown",
      "metadata": {
        "id": "-fF1J4P89U3y"
      },
      "source": [
        "### c) Would you say that a \"good\" `README` is correlated with a popular repository, based on the features you studied?  Why or why not?  If you were to analyze more in-depth features on the `README` file for correlation with repo popularity what would they be? (3 points)"
      ]
    },
    {
      "cell_type": "markdown",
      "metadata": {
        "id": "NS8zU63l92T6"
      },
      "source": [
        "---\n",
        "Yes a good README is correlated with a popular repository. Repos containg readme are more popular. Large size repos are also popular. Providing images and links in readme also makes repos popular.\n",
        "---"
      ]
    },
    {
      "cell_type": "markdown",
      "metadata": {
        "id": "Rsvoq40vSd2_"
      },
      "source": [
        "## Question 6 (Extra Credit): What other features might correlate with a highly watched repo? (3 possible points)\n",
        "\n",
        "We studied only a handful of features that could correlate with a highly watched repo.  Can you find a few more that seem especially promising?  Back your proposed features with data and charts."
      ]
    },
    {
      "cell_type": "markdown",
      "metadata": {
        "id": "wGE8Gkfk1Tbv"
      },
      "source": [
        "\n",
        "---\n",
        "\n",
        "*License*\n",
        "\n",
        "\n",
        "---\n",
        "\n"
      ]
    },
    {
      "cell_type": "code",
      "execution_count": 15,
      "metadata": {
        "id": "Zh5XkW3rSwR6"
      },
      "outputs": [],
      "source": [
        "# YOUR QUERIES HERE\n",
        "%%bigquery --project $project_id q6\n",
        "\n",
        "SELECT license, AVG(watch_count) as watch_count\n",
        "FROM `cs145-ta.project_part2.github_repos_cs145` repositories\n",
        "JOIN `cs145-ta.project_part2.github_repo_licenses_cs145` repo_licenses\n",
        "ON repositories. lrepo_name = repo_licenses. lrepo_name\n",
        "GROUP BY license\n",
        "ORDER BY watch_count"
      ]
    },
    {
      "cell_type": "code",
      "execution_count": 16,
      "metadata": {
        "id": "g0g4gwjLt_G-",
        "colab": {
          "base_uri": "https://localhost:8080/",
          "height": 270
        },
        "outputId": "10fdf414-5cba-4284-e4b7-7f92212ec4cd"
      },
      "outputs": [
        {
          "output_type": "execute_result",
          "data": {
            "text/plain": [
              "Text(0, 0.5, 'avg_watch_count')"
            ]
          },
          "metadata": {},
          "execution_count": 16
        },
        {
          "output_type": "display_data",
          "data": {
            "image/png": "[encoded data removed]",
            "text/plain": [
              "<Figure size 1296x252 with 1 Axes>"
            ]
          },
          "metadata": {
            "needs_background": "light"
          }
        }
      ],
      "source": [
        "# YOUR PLOT CODE HERE\n",
        "plt.figure()\n",
        "plt.bar(q6[\"license\"], q6[\"watch_count\"])\n",
        "plt.title(\"License\")\n",
        "plt.xlabel(\"License\")\n",
        "plt.ylabel(\"avg_watch_count\")"
      ]
    }
  ],
  "metadata": {
    "colab": {
      "collapsed_sections": [
        "z9Be9O4_dOuN",
        "rmbV7yfpuxGU",
        "5c-7QXQre4Gt",
        "0NwEmglfTzJQ",
        "O-PmE-LLT743",
        "fZ0OmH5DxQLk",
        "hIzhMNllUM0s",
        "CklOd-VXuEXa",
        "Fbo706dCt2LT",
        "b_moV3eFqT6n",
        "tjvS2kD4qkVm",
        "aGShjNR0qmFS",
        "VOJeDWRvlLbF",
        "7bpWi-uh3QJj",
        "_CgmWrbisltV",
        "T1APZTtGwVE4",
        "oHNutgYnLdBb",
        "6QRXkPTFWzUT",
        "AKhYoI7zWtDg",
        "etSy6h-ws4J0",
        "RMq0_HaYs9Fu",
        "-fF1J4P89U3y",
        "Rsvoq40vSd2_"
      ],
      "name": "Project2_2022.ipynb",
      "provenance": []
    },
    "kernelspec": {
      "display_name": "Python 3",
      "name": "python3"
    }
  },
  "nbformat": 4,
  "nbformat_minor": 0
}